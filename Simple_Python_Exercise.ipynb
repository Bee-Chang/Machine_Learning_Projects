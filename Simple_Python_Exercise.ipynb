{
  "nbformat": 4,
  "nbformat_minor": 0,
  "metadata": {
    "colab": {
      "provenance": []
    },
    "kernelspec": {
      "name": "python3",
      "display_name": "Python 3"
    },
    "language_info": {
      "name": "python"
    }
  },
  "cells": [
    {
      "cell_type": "code",
      "execution_count": null,
      "metadata": {
        "id": "gWNN1azucDlQ"
      },
      "outputs": [],
      "source": [
        "# Christopher Rodea\n",
        "# Bee Chang"
      ]
    },
    {
      "cell_type": "code",
      "source": [
        "print (2+8)"
      ],
      "metadata": {
        "colab": {
          "base_uri": "https://localhost:8080/"
        },
        "id": "v42Gh7qedP32",
        "outputId": "c896a228-e903-456f-ce77-7019457e6f56"
      },
      "execution_count": null,
      "outputs": [
        {
          "output_type": "stream",
          "name": "stdout",
          "text": [
            "10\n"
          ]
        }
      ]
    },
    {
      "cell_type": "code",
      "source": [
        "print(85-48)"
      ],
      "metadata": {
        "colab": {
          "base_uri": "https://localhost:8080/"
        },
        "id": "j7QEJImsdeV1",
        "outputId": "d2e9604b-d96a-443a-de06-73c5166363ed"
      },
      "execution_count": null,
      "outputs": [
        {
          "output_type": "stream",
          "name": "stdout",
          "text": [
            "37\n"
          ]
        }
      ]
    },
    {
      "cell_type": "code",
      "source": [
        "print(6*2)"
      ],
      "metadata": {
        "colab": {
          "base_uri": "https://localhost:8080/"
        },
        "id": "h4SUe9z5dhjd",
        "outputId": "de76b26b-be76-49a3-8fe6-5668633eee5f"
      },
      "execution_count": null,
      "outputs": [
        {
          "output_type": "stream",
          "name": "stdout",
          "text": [
            "12\n"
          ]
        }
      ]
    },
    {
      "cell_type": "code",
      "source": [
        "print(20/5)"
      ],
      "metadata": {
        "colab": {
          "base_uri": "https://localhost:8080/"
        },
        "id": "Xtrf5y6ndnyd",
        "outputId": "17969164-a58a-4bc5-8a14-4c7058c74c1d"
      },
      "execution_count": null,
      "outputs": [
        {
          "output_type": "stream",
          "name": "stdout",
          "text": [
            "4.0\n"
          ]
        }
      ]
    },
    {
      "cell_type": "code",
      "source": [
        "print(2+7+8)"
      ],
      "metadata": {
        "colab": {
          "base_uri": "https://localhost:8080/"
        },
        "id": "cYGw9Hnndrht",
        "outputId": "dbb0fac4-c8f6-4443-9780-4e1e463b39a6"
      },
      "execution_count": null,
      "outputs": [
        {
          "output_type": "stream",
          "name": "stdout",
          "text": [
            "17\n"
          ]
        }
      ]
    },
    {
      "cell_type": "code",
      "source": [
        "print(8-2*4)"
      ],
      "metadata": {
        "colab": {
          "base_uri": "https://localhost:8080/"
        },
        "id": "rDJIArXJdt5G",
        "outputId": "0969a67c-ad9b-4feb-b2b2-e9426b6dfcfc"
      },
      "execution_count": null,
      "outputs": [
        {
          "output_type": "stream",
          "name": "stdout",
          "text": [
            "0\n"
          ]
        }
      ]
    },
    {
      "cell_type": "code",
      "source": [
        "print((7-2)*3)"
      ],
      "metadata": {
        "colab": {
          "base_uri": "https://localhost:8080/"
        },
        "id": "NhDca21rdyvN",
        "outputId": "90e51c0b-2d44-4e31-dc76-92a3e6719d36"
      },
      "execution_count": null,
      "outputs": [
        {
          "output_type": "stream",
          "name": "stdout",
          "text": [
            "15\n"
          ]
        }
      ]
    },
    {
      "cell_type": "code",
      "source": [
        "print(3*4-3)"
      ],
      "metadata": {
        "colab": {
          "base_uri": "https://localhost:8080/"
        },
        "id": "0vrnnR0Jd4MN",
        "outputId": "00479579-5aa2-4ef1-f665-f419153ecc94"
      },
      "execution_count": null,
      "outputs": [
        {
          "output_type": "stream",
          "name": "stdout",
          "text": [
            "9\n"
          ]
        }
      ]
    },
    {
      "cell_type": "code",
      "source": [
        "print((2*4)-3)"
      ],
      "metadata": {
        "colab": {
          "base_uri": "https://localhost:8080/"
        },
        "id": "0FdxZ_U6d72O",
        "outputId": "65f4dad3-e0d8-4006-8317-29450394a474"
      },
      "execution_count": null,
      "outputs": [
        {
          "output_type": "stream",
          "name": "stdout",
          "text": [
            "5\n"
          ]
        }
      ]
    },
    {
      "cell_type": "code",
      "source": [
        "print(15/(7-2))"
      ],
      "metadata": {
        "colab": {
          "base_uri": "https://localhost:8080/"
        },
        "id": "I2zTj02ReAcF",
        "outputId": "54f60da3-7d58-4426-804f-d30bd06d4670"
      },
      "execution_count": null,
      "outputs": [
        {
          "output_type": "stream",
          "name": "stdout",
          "text": [
            "3.0\n"
          ]
        }
      ]
    },
    {
      "cell_type": "code",
      "source": [
        "print(7+5-3)"
      ],
      "metadata": {
        "colab": {
          "base_uri": "https://localhost:8080/"
        },
        "id": "lToD6aFseFkl",
        "outputId": "96553ff5-3c72-46df-a9bd-df906c10f802"
      },
      "execution_count": null,
      "outputs": [
        {
          "output_type": "stream",
          "name": "stdout",
          "text": [
            "9\n"
          ]
        }
      ]
    },
    {
      "cell_type": "code",
      "source": [
        "print((7+5)-3)"
      ],
      "metadata": {
        "colab": {
          "base_uri": "https://localhost:8080/"
        },
        "id": "Iuds2FLGeKvV",
        "outputId": "cb11e98c-8a9d-4766-df95-b87681359981"
      },
      "execution_count": null,
      "outputs": [
        {
          "output_type": "stream",
          "name": "stdout",
          "text": [
            "9\n"
          ]
        }
      ]
    },
    {
      "cell_type": "code",
      "source": [
        "print(7+(5-3))"
      ],
      "metadata": {
        "colab": {
          "base_uri": "https://localhost:8080/"
        },
        "id": "PoV0KgJ-eSde",
        "outputId": "b19c0c8e-2dd1-4a77-aabf-c9869cadfb6f"
      },
      "execution_count": null,
      "outputs": [
        {
          "output_type": "stream",
          "name": "stdout",
          "text": [
            "9\n"
          ]
        }
      ]
    },
    {
      "cell_type": "code",
      "source": [
        "((7*2)-(2+2))"
      ],
      "metadata": {
        "colab": {
          "base_uri": "https://localhost:8080/"
        },
        "id": "tIwXPFYveaxF",
        "outputId": "22ea2df2-6f45-4c61-c716-2c31a7e603fb"
      },
      "execution_count": null,
      "outputs": [
        {
          "output_type": "execute_result",
          "data": {
            "text/plain": [
              "10"
            ]
          },
          "metadata": {},
          "execution_count": 15
        }
      ]
    },
    {
      "cell_type": "code",
      "source": [
        "((3+2)**(4-2))"
      ],
      "metadata": {
        "colab": {
          "base_uri": "https://localhost:8080/"
        },
        "id": "TmZsTMqIefi-",
        "outputId": "44de5160-12d6-4343-a4dc-93d90c0a7b02"
      },
      "execution_count": null,
      "outputs": [
        {
          "output_type": "execute_result",
          "data": {
            "text/plain": [
              "25"
            ]
          },
          "metadata": {},
          "execution_count": 16
        }
      ]
    },
    {
      "cell_type": "code",
      "source": [
        "print(('7+5='),(7+5))"
      ],
      "metadata": {
        "colab": {
          "base_uri": "https://localhost:8080/"
        },
        "id": "Uwf5E6JQeqIt",
        "outputId": "dfeb3337-b088-4551-d163-c9bf451f43d8"
      },
      "execution_count": null,
      "outputs": [
        {
          "output_type": "stream",
          "name": "stdout",
          "text": [
            "7+5= 12\n"
          ]
        }
      ]
    },
    {
      "cell_type": "code",
      "source": [
        "print((7*8*2),('is the answer to 7*8*2'))"
      ],
      "metadata": {
        "colab": {
          "base_uri": "https://localhost:8080/"
        },
        "id": "w8vDILRXe22F",
        "outputId": "126ec107-daac-4a29-cdd7-9cefe7536cec"
      },
      "execution_count": null,
      "outputs": [
        {
          "output_type": "stream",
          "name": "stdout",
          "text": [
            "112 is the answer to 7*8*2\n"
          ]
        }
      ]
    },
    {
      "cell_type": "code",
      "source": [
        "year = 2023\n",
        "print(year)\n",
        "print(year+6)\n",
        "print(year-3)\n",
        "print((year-2)+10)\n",
        "print(('The current year is'), (year))\n",
        "print(('Two years from now it will be'), (year+2))"
      ],
      "metadata": {
        "colab": {
          "base_uri": "https://localhost:8080/"
        },
        "id": "qo-UpgjZfAe9",
        "outputId": "2d9e754e-230d-4191-9fce-f0b4f9d89aa8"
      },
      "execution_count": null,
      "outputs": [
        {
          "output_type": "stream",
          "name": "stdout",
          "text": [
            "2023\n",
            "2029\n",
            "2020\n",
            "2031\n",
            "The current year is 2023\n",
            "Two years from now it will be 2025\n"
          ]
        }
      ]
    },
    {
      "cell_type": "code",
      "source": [
        "year=2023\n",
        "name=('Fresno')\n",
        "name=('State')\n",
        "\n",
        "name=input('Please enter your last name: ')\n",
        "print(name)"
      ],
      "metadata": {
        "colab": {
          "base_uri": "https://localhost:8080/"
        },
        "id": "nqz_StDGfpB9",
        "outputId": "92151e48-a413-4d55-ac56-6623412c8c25"
      },
      "execution_count": null,
      "outputs": [
        {
          "output_type": "stream",
          "name": "stdout",
          "text": [
            "Please enter your last name: Bee\n",
            "Bee\n"
          ]
        }
      ]
    },
    {
      "cell_type": "code",
      "source": [
        "a=1+4\n",
        "b=5+9\n",
        "c=a+b\n",
        "c=c+1\n",
        "print(a)\n",
        "print(b)\n",
        "print(c)\n"
      ],
      "metadata": {
        "colab": {
          "base_uri": "https://localhost:8080/"
        },
        "id": "7oFLMVo0gTi9",
        "outputId": "752801e1-e938-40cc-a51c-6ba48370e9b0"
      },
      "execution_count": null,
      "outputs": [
        {
          "output_type": "stream",
          "name": "stdout",
          "text": [
            "5\n",
            "14\n",
            "20\n"
          ]
        }
      ]
    },
    {
      "cell_type": "code",
      "source": [
        "a=10\n",
        "b = 5\n",
        "result = a+b \n",
        "print((a),('+') , (b), ('-'), (result))\n"
      ],
      "metadata": {
        "colab": {
          "base_uri": "https://localhost:8080/"
        },
        "id": "Nw3IUMNmguJ1",
        "outputId": "512663c0-a894-4aec-8b18-8328efdcc2f9"
      },
      "execution_count": null,
      "outputs": [
        {
          "output_type": "stream",
          "name": "stdout",
          "text": [
            "10 + 5 - 15\n"
          ]
        }
      ]
    },
    {
      "cell_type": "code",
      "source": [
        "hours = int(input('Enter the hours worked this week: '))\n",
        "#Get the hourly pay rate.\n",
        "pay_rate = float(input('Enter the hourly pay rate: '))\n",
        "#Calculate the gross pay\n",
        "gross_pay = hours * pay_rate\n",
        "#Display the gross pay\n",
        "print(f'Gross pay: ${gross_pay:,.2f}')\n"
      ],
      "metadata": {
        "colab": {
          "base_uri": "https://localhost:8080/"
        },
        "id": "ET5PjM_ZhK3N",
        "outputId": "0fbb5a50-0a41-4f14-d120-01cf15ee3655"
      },
      "execution_count": null,
      "outputs": [
        {
          "output_type": "stream",
          "name": "stdout",
          "text": [
            "Enter the hours worked this week: 400\n",
            "Enter the hourly pay rate: 20\n",
            "Gross pay: $8,000.00\n"
          ]
        }
      ]
    },
    {
      "cell_type": "code",
      "source": [
        "name = input('Please enter the worker fullname: ')\n",
        "hours = int(input('Enter the hours worked this week: '))\n",
        "#Get the hourly pay rate.\n",
        "pay_rate = float(input('Enter the hourly pay rate: '))\n",
        "#Calculate the gross pay\n",
        "gross_pay = hours * pay_rate\n",
        "#Display the gross pay\n",
        "print(f'Gross pay: ${gross_pay:,.2f}')\n",
        "overtime_hours = int(input('Enter the overtime hours worked this week: '))\n",
        "overtime_hours_rate = int(input('Enter the hourly overtime pay rate: '))\n",
        "overtime_pay = overtime_hours * overtime_hours_rate\n",
        "print((\"Overtime pay: \" ), overtime_pay)\n",
        "gross_and_overtime = gross_pay + overtime_pay\n",
        "print((name), (\", your total gross pay is:\"), (gross_and_overtime))\n"
      ],
      "metadata": {
        "colab": {
          "base_uri": "https://localhost:8080/"
        },
        "id": "A5KXQyDihmCr",
        "outputId": "4051c392-f2ad-4024-f634-17a976936aad"
      },
      "execution_count": null,
      "outputs": [
        {
          "output_type": "stream",
          "name": "stdout",
          "text": [
            "Please enter the worker fullname: Bee\n",
            "Enter the hours worked this week: 40\n",
            "Enter the hourly pay rate: 16\n",
            "Gross pay: $640.00\n",
            "Enter the overtime hours worked this week: 20\n",
            "Enter the hourly overtime pay rate: 24\n",
            "Overtime pay:  480\n",
            "Bee , your total gross pay is: 1120.0\n"
          ]
        }
      ]
    },
    {
      "cell_type": "code",
      "source": [
        "if 10==10 :\n",
        "  print('equal')\n"
      ],
      "metadata": {
        "colab": {
          "base_uri": "https://localhost:8080/"
        },
        "id": "-yJaGgZgk-5V",
        "outputId": "3dc3d233-a2d2-4b2a-f044-48def7e50059"
      },
      "execution_count": null,
      "outputs": [
        {
          "output_type": "stream",
          "name": "stdout",
          "text": [
            "equal\n"
          ]
        }
      ]
    },
    {
      "cell_type": "code",
      "source": [
        "if(5*2)==10:\n",
        "  print('the expression is equal')"
      ],
      "metadata": {
        "colab": {
          "base_uri": "https://localhost:8080/"
        },
        "id": "2cO6YMRmlRmV",
        "outputId": "b95a7d93-500b-4b41-9e1a-489ae09c9386"
      },
      "execution_count": null,
      "outputs": [
        {
          "output_type": "stream",
          "name": "stdout",
          "text": [
            "the expression is equal\n"
          ]
        }
      ]
    },
    {
      "cell_type": "code",
      "source": [
        "if(8+3)!=10:\n",
        "  print('Not equal')\n"
      ],
      "metadata": {
        "colab": {
          "base_uri": "https://localhost:8080/"
        },
        "id": "sGjAzyHilTSE",
        "outputId": "aa4ad96d-353c-447f-e716-74cd3460f0d8"
      },
      "execution_count": null,
      "outputs": [
        {
          "output_type": "stream",
          "name": "stdout",
          "text": [
            "Not equal\n"
          ]
        }
      ]
    },
    {
      "cell_type": "code",
      "source": [
        "if 8>5:\n",
        "  print('8 is greater than 5')"
      ],
      "metadata": {
        "colab": {
          "base_uri": "https://localhost:8080/"
        },
        "id": "gXrBoAH2lf_G",
        "outputId": "4cab5754-0e83-4508-fc3c-283a9b6c737e"
      },
      "execution_count": null,
      "outputs": [
        {
          "output_type": "stream",
          "name": "stdout",
          "text": [
            "8 is greater than 5\n"
          ]
        }
      ]
    },
    {
      "cell_type": "code",
      "source": [
        "a=6\n",
        "b=7\n",
        "c=3\n",
        "d= ('Fresno')\n",
        "e= ('State')\n",
        "if a==(c*2):\n",
        "  print('6=3*2')\n",
        "if d!=e:                                # != is used to test for inequality (not equal to)\n",
        "  print('The names are not the same')\n",
        "b=9                                                #Note that we added additional lines\n",
        "print('b has to be set to 9')      "
      ],
      "metadata": {
        "colab": {
          "base_uri": "https://localhost:8080/"
        },
        "id": "EZWdMpWUmFnj",
        "outputId": "0d08a0d8-6560-4b2a-f972-51ec4e6a63d6"
      },
      "execution_count": null,
      "outputs": [
        {
          "output_type": "stream",
          "name": "stdout",
          "text": [
            "6=3*2\n",
            "The names are not the same\n",
            "b has to be set to 9\n"
          ]
        }
      ]
    },
    {
      "cell_type": "code",
      "source": [
        "a=10\n",
        "b=5\n",
        "operation = ('unknown operation')\n",
        "result=('???')\n",
        "print('Which operation should I perform + or - ?')\n",
        "operation=input()\n",
        "if operation==(\"+\"):\n",
        "  result=a+b\n",
        "if operation==('_'):\n",
        "  result=a-b\n",
        "print((a), operation, (b), ('='), (result))"
      ],
      "metadata": {
        "colab": {
          "base_uri": "https://localhost:8080/"
        },
        "id": "NjPm0Jiompg8",
        "outputId": "9fe7d844-28f6-41bd-8ba9-9f615d9422ee"
      },
      "execution_count": null,
      "outputs": [
        {
          "output_type": "stream",
          "name": "stdout",
          "text": [
            "Which operation should I perform + or - ?\n",
            "*\n",
            "10 * 5 = ???\n"
          ]
        }
      ]
    },
    {
      "cell_type": "code",
      "source": [
        "name=input('Please enter your last name: ')\n",
        "a = int(input('please enter a number'))\n",
        "b = int(input('please enter another number'))\n",
        "operation = ('unknown operation')\n",
        "result=('???')\n",
        "print('Which operation should I perform + or - or * or / or **?')\n",
        "operation=input()\n",
        "if operation==(\"+\"):\n",
        "  result=a+b\n",
        "if operation==('_'):\n",
        "  result=a-b\n",
        "if operation==('*'):\n",
        "  result=a*b\n",
        "if operation==('/'):\n",
        "  result=a-b\n",
        "if operation==('**'):\n",
        "  result=a**b\n",
        "print(name, ('here is your answer: '), (a), operation, (b), ('='), (result))"
      ],
      "metadata": {
        "colab": {
          "base_uri": "https://localhost:8080/"
        },
        "id": "6yjhVpoxnSLE",
        "outputId": "5cc04cd7-7e75-4bbc-f541-836957520d81"
      },
      "execution_count": null,
      "outputs": [
        {
          "output_type": "stream",
          "name": "stdout",
          "text": [
            "Please enter your last name: Chang\n",
            "please enter a number21\n",
            "please enter another number86\n",
            "Which operation should I perform + or - or * or / or **?\n",
            "*\n",
            "Chang here is your answer:  21 * 86 = 1806\n"
          ]
        }
      ]
    },
    {
      "cell_type": "code",
      "source": [
        "# Chris \n",
        "# Bee\n",
        "\n",
        "# Start of Panda Portion "
      ],
      "metadata": {
        "id": "V5lbQT4epFv8"
      },
      "execution_count": null,
      "outputs": []
    },
    {
      "cell_type": "code",
      "source": [
        "import pandas"
      ],
      "metadata": {
        "id": "cx1NbpZbwJx0"
      },
      "execution_count": null,
      "outputs": []
    },
    {
      "cell_type": "code",
      "source": [
        "import pandas as pd\n",
        "pandas.__version__"
      ],
      "metadata": {
        "colab": {
          "base_uri": "https://localhost:8080/",
          "height": 35
        },
        "id": "n5bz8yvipaV1",
        "outputId": "4330b681-d185-4784-fc0c-613553fb2aae"
      },
      "execution_count": null,
      "outputs": [
        {
          "output_type": "execute_result",
          "data": {
            "text/plain": [
              "'1.3.5'"
            ],
            "application/vnd.google.colaboratory.intrinsic+json": {
              "type": "string"
            }
          },
          "metadata": {},
          "execution_count": 15
        }
      ]
    },
    {
      "cell_type": "code",
      "source": [
        "url = 'https://www.stats.govt.nz/assets/Uploads/Annual-enterprise-survey/Annual-enterprise-survey-2021-financial-year-provisional/Download-data/annual-enterprise-survey-2021-financial-year-provisional-csv.csv'\n",
        "\n",
        "df1 = pd.read_csv(url)\n",
        "\n",
        "display(df1)"
      ],
      "metadata": {
        "colab": {
          "base_uri": "https://localhost:8080/",
          "height": 731
        },
        "id": "DJPpV4yKr6Xq",
        "outputId": "634d2229-e9c5-412e-e19a-5140a0cd45fb"
      },
      "execution_count": null,
      "outputs": [
        {
          "output_type": "display_data",
          "data": {
            "text/plain": [
              "       Year Industry_aggregation_NZSIOC Industry_code_NZSIOC  \\\n",
              "0      2021                     Level 1                99999   \n",
              "1      2021                     Level 1                99999   \n",
              "2      2021                     Level 1                99999   \n",
              "3      2021                     Level 1                99999   \n",
              "4      2021                     Level 1                99999   \n",
              "...     ...                         ...                  ...   \n",
              "41710  2013                     Level 3                 ZZ11   \n",
              "41711  2013                     Level 3                 ZZ11   \n",
              "41712  2013                     Level 3                 ZZ11   \n",
              "41713  2013                     Level 3                 ZZ11   \n",
              "41714  2013                     Level 3                 ZZ11   \n",
              "\n",
              "             Industry_name_NZSIOC               Units Variable_code  \\\n",
              "0                  All industries  Dollars (millions)           H01   \n",
              "1                  All industries  Dollars (millions)           H04   \n",
              "2                  All industries  Dollars (millions)           H05   \n",
              "3                  All industries  Dollars (millions)           H07   \n",
              "4                  All industries  Dollars (millions)           H08   \n",
              "...                           ...                 ...           ...   \n",
              "41710  Food product manufacturing          Percentage           H37   \n",
              "41711  Food product manufacturing          Percentage           H38   \n",
              "41712  Food product manufacturing          Percentage           H39   \n",
              "41713  Food product manufacturing          Percentage           H40   \n",
              "41714  Food product manufacturing          Percentage           H41   \n",
              "\n",
              "                                         Variable_name      Variable_category  \\\n",
              "0                                         Total income  Financial performance   \n",
              "1      Sales, government funding, grants and subsidies  Financial performance   \n",
              "2                    Interest, dividends and donations  Financial performance   \n",
              "3                                 Non-operating income  Financial performance   \n",
              "4                                    Total expenditure  Financial performance   \n",
              "...                                                ...                    ...   \n",
              "41710                                      Quick ratio       Financial ratios   \n",
              "41711              Margin on sales of goods for resale       Financial ratios   \n",
              "41712                                 Return on equity       Financial ratios   \n",
              "41713                           Return on total assets       Financial ratios   \n",
              "41714                            Liabilities structure       Financial ratios   \n",
              "\n",
              "         Value                             Industry_code_ANZSIC06  \n",
              "0      757,504  ANZSIC06 divisions A-S (excluding classes K633...  \n",
              "1      674,890  ANZSIC06 divisions A-S (excluding classes K633...  \n",
              "2       49,593  ANZSIC06 divisions A-S (excluding classes K633...  \n",
              "3       33,020  ANZSIC06 divisions A-S (excluding classes K633...  \n",
              "4      654,404  ANZSIC06 divisions A-S (excluding classes K633...  \n",
              "...        ...                                                ...  \n",
              "41710       52  ANZSIC06 groups C111, C112, C113, C114, C115, ...  \n",
              "41711       40  ANZSIC06 groups C111, C112, C113, C114, C115, ...  \n",
              "41712       12  ANZSIC06 groups C111, C112, C113, C114, C115, ...  \n",
              "41713        5  ANZSIC06 groups C111, C112, C113, C114, C115, ...  \n",
              "41714       46  ANZSIC06 groups C111, C112, C113, C114, C115, ...  \n",
              "\n",
              "[41715 rows x 10 columns]"
            ],
            "text/html": [
              "\n",
              "  <div id=\"df-d4016b83-d800-4edc-93c9-965d8bd572dd\">\n",
              "    <div class=\"colab-df-container\">\n",
              "      <div>\n",
              "<style scoped>\n",
              "    .dataframe tbody tr th:only-of-type {\n",
              "        vertical-align: middle;\n",
              "    }\n",
              "\n",
              "    .dataframe tbody tr th {\n",
              "        vertical-align: top;\n",
              "    }\n",
              "\n",
              "    .dataframe thead th {\n",
              "        text-align: right;\n",
              "    }\n",
              "</style>\n",
              "<table border=\"1\" class=\"dataframe\">\n",
              "  <thead>\n",
              "    <tr style=\"text-align: right;\">\n",
              "      <th></th>\n",
              "      <th>Year</th>\n",
              "      <th>Industry_aggregation_NZSIOC</th>\n",
              "      <th>Industry_code_NZSIOC</th>\n",
              "      <th>Industry_name_NZSIOC</th>\n",
              "      <th>Units</th>\n",
              "      <th>Variable_code</th>\n",
              "      <th>Variable_name</th>\n",
              "      <th>Variable_category</th>\n",
              "      <th>Value</th>\n",
              "      <th>Industry_code_ANZSIC06</th>\n",
              "    </tr>\n",
              "  </thead>\n",
              "  <tbody>\n",
              "    <tr>\n",
              "      <th>0</th>\n",
              "      <td>2021</td>\n",
              "      <td>Level 1</td>\n",
              "      <td>99999</td>\n",
              "      <td>All industries</td>\n",
              "      <td>Dollars (millions)</td>\n",
              "      <td>H01</td>\n",
              "      <td>Total income</td>\n",
              "      <td>Financial performance</td>\n",
              "      <td>757,504</td>\n",
              "      <td>ANZSIC06 divisions A-S (excluding classes K633...</td>\n",
              "    </tr>\n",
              "    <tr>\n",
              "      <th>1</th>\n",
              "      <td>2021</td>\n",
              "      <td>Level 1</td>\n",
              "      <td>99999</td>\n",
              "      <td>All industries</td>\n",
              "      <td>Dollars (millions)</td>\n",
              "      <td>H04</td>\n",
              "      <td>Sales, government funding, grants and subsidies</td>\n",
              "      <td>Financial performance</td>\n",
              "      <td>674,890</td>\n",
              "      <td>ANZSIC06 divisions A-S (excluding classes K633...</td>\n",
              "    </tr>\n",
              "    <tr>\n",
              "      <th>2</th>\n",
              "      <td>2021</td>\n",
              "      <td>Level 1</td>\n",
              "      <td>99999</td>\n",
              "      <td>All industries</td>\n",
              "      <td>Dollars (millions)</td>\n",
              "      <td>H05</td>\n",
              "      <td>Interest, dividends and donations</td>\n",
              "      <td>Financial performance</td>\n",
              "      <td>49,593</td>\n",
              "      <td>ANZSIC06 divisions A-S (excluding classes K633...</td>\n",
              "    </tr>\n",
              "    <tr>\n",
              "      <th>3</th>\n",
              "      <td>2021</td>\n",
              "      <td>Level 1</td>\n",
              "      <td>99999</td>\n",
              "      <td>All industries</td>\n",
              "      <td>Dollars (millions)</td>\n",
              "      <td>H07</td>\n",
              "      <td>Non-operating income</td>\n",
              "      <td>Financial performance</td>\n",
              "      <td>33,020</td>\n",
              "      <td>ANZSIC06 divisions A-S (excluding classes K633...</td>\n",
              "    </tr>\n",
              "    <tr>\n",
              "      <th>4</th>\n",
              "      <td>2021</td>\n",
              "      <td>Level 1</td>\n",
              "      <td>99999</td>\n",
              "      <td>All industries</td>\n",
              "      <td>Dollars (millions)</td>\n",
              "      <td>H08</td>\n",
              "      <td>Total expenditure</td>\n",
              "      <td>Financial performance</td>\n",
              "      <td>654,404</td>\n",
              "      <td>ANZSIC06 divisions A-S (excluding classes K633...</td>\n",
              "    </tr>\n",
              "    <tr>\n",
              "      <th>...</th>\n",
              "      <td>...</td>\n",
              "      <td>...</td>\n",
              "      <td>...</td>\n",
              "      <td>...</td>\n",
              "      <td>...</td>\n",
              "      <td>...</td>\n",
              "      <td>...</td>\n",
              "      <td>...</td>\n",
              "      <td>...</td>\n",
              "      <td>...</td>\n",
              "    </tr>\n",
              "    <tr>\n",
              "      <th>41710</th>\n",
              "      <td>2013</td>\n",
              "      <td>Level 3</td>\n",
              "      <td>ZZ11</td>\n",
              "      <td>Food product manufacturing</td>\n",
              "      <td>Percentage</td>\n",
              "      <td>H37</td>\n",
              "      <td>Quick ratio</td>\n",
              "      <td>Financial ratios</td>\n",
              "      <td>52</td>\n",
              "      <td>ANZSIC06 groups C111, C112, C113, C114, C115, ...</td>\n",
              "    </tr>\n",
              "    <tr>\n",
              "      <th>41711</th>\n",
              "      <td>2013</td>\n",
              "      <td>Level 3</td>\n",
              "      <td>ZZ11</td>\n",
              "      <td>Food product manufacturing</td>\n",
              "      <td>Percentage</td>\n",
              "      <td>H38</td>\n",
              "      <td>Margin on sales of goods for resale</td>\n",
              "      <td>Financial ratios</td>\n",
              "      <td>40</td>\n",
              "      <td>ANZSIC06 groups C111, C112, C113, C114, C115, ...</td>\n",
              "    </tr>\n",
              "    <tr>\n",
              "      <th>41712</th>\n",
              "      <td>2013</td>\n",
              "      <td>Level 3</td>\n",
              "      <td>ZZ11</td>\n",
              "      <td>Food product manufacturing</td>\n",
              "      <td>Percentage</td>\n",
              "      <td>H39</td>\n",
              "      <td>Return on equity</td>\n",
              "      <td>Financial ratios</td>\n",
              "      <td>12</td>\n",
              "      <td>ANZSIC06 groups C111, C112, C113, C114, C115, ...</td>\n",
              "    </tr>\n",
              "    <tr>\n",
              "      <th>41713</th>\n",
              "      <td>2013</td>\n",
              "      <td>Level 3</td>\n",
              "      <td>ZZ11</td>\n",
              "      <td>Food product manufacturing</td>\n",
              "      <td>Percentage</td>\n",
              "      <td>H40</td>\n",
              "      <td>Return on total assets</td>\n",
              "      <td>Financial ratios</td>\n",
              "      <td>5</td>\n",
              "      <td>ANZSIC06 groups C111, C112, C113, C114, C115, ...</td>\n",
              "    </tr>\n",
              "    <tr>\n",
              "      <th>41714</th>\n",
              "      <td>2013</td>\n",
              "      <td>Level 3</td>\n",
              "      <td>ZZ11</td>\n",
              "      <td>Food product manufacturing</td>\n",
              "      <td>Percentage</td>\n",
              "      <td>H41</td>\n",
              "      <td>Liabilities structure</td>\n",
              "      <td>Financial ratios</td>\n",
              "      <td>46</td>\n",
              "      <td>ANZSIC06 groups C111, C112, C113, C114, C115, ...</td>\n",
              "    </tr>\n",
              "  </tbody>\n",
              "</table>\n",
              "<p>41715 rows × 10 columns</p>\n",
              "</div>\n",
              "      <button class=\"colab-df-convert\" onclick=\"convertToInteractive('df-d4016b83-d800-4edc-93c9-965d8bd572dd')\"\n",
              "              title=\"Convert this dataframe to an interactive table.\"\n",
              "              style=\"display:none;\">\n",
              "        \n",
              "  <svg xmlns=\"http://www.w3.org/2000/svg\" height=\"24px\"viewBox=\"0 0 24 24\"\n",
              "       width=\"24px\">\n",
              "    <path d=\"M0 0h24v24H0V0z\" fill=\"none\"/>\n",
              "    <path d=\"M18.56 5.44l.94 2.06.94-2.06 2.06-.94-2.06-.94-.94-2.06-.94 2.06-2.06.94zm-11 1L8.5 8.5l.94-2.06 2.06-.94-2.06-.94L8.5 2.5l-.94 2.06-2.06.94zm10 10l.94 2.06.94-2.06 2.06-.94-2.06-.94-.94-2.06-.94 2.06-2.06.94z\"/><path d=\"M17.41 7.96l-1.37-1.37c-.4-.4-.92-.59-1.43-.59-.52 0-1.04.2-1.43.59L10.3 9.45l-7.72 7.72c-.78.78-.78 2.05 0 2.83L4 21.41c.39.39.9.59 1.41.59.51 0 1.02-.2 1.41-.59l7.78-7.78 2.81-2.81c.8-.78.8-2.07 0-2.86zM5.41 20L4 18.59l7.72-7.72 1.47 1.35L5.41 20z\"/>\n",
              "  </svg>\n",
              "      </button>\n",
              "      \n",
              "  <style>\n",
              "    .colab-df-container {\n",
              "      display:flex;\n",
              "      flex-wrap:wrap;\n",
              "      gap: 12px;\n",
              "    }\n",
              "\n",
              "    .colab-df-convert {\n",
              "      background-color: #E8F0FE;\n",
              "      border: none;\n",
              "      border-radius: 50%;\n",
              "      cursor: pointer;\n",
              "      display: none;\n",
              "      fill: #1967D2;\n",
              "      height: 32px;\n",
              "      padding: 0 0 0 0;\n",
              "      width: 32px;\n",
              "    }\n",
              "\n",
              "    .colab-df-convert:hover {\n",
              "      background-color: #E2EBFA;\n",
              "      box-shadow: 0px 1px 2px rgba(60, 64, 67, 0.3), 0px 1px 3px 1px rgba(60, 64, 67, 0.15);\n",
              "      fill: #174EA6;\n",
              "    }\n",
              "\n",
              "    [theme=dark] .colab-df-convert {\n",
              "      background-color: #3B4455;\n",
              "      fill: #D2E3FC;\n",
              "    }\n",
              "\n",
              "    [theme=dark] .colab-df-convert:hover {\n",
              "      background-color: #434B5C;\n",
              "      box-shadow: 0px 1px 3px 1px rgba(0, 0, 0, 0.15);\n",
              "      filter: drop-shadow(0px 1px 2px rgba(0, 0, 0, 0.3));\n",
              "      fill: #FFFFFF;\n",
              "    }\n",
              "  </style>\n",
              "\n",
              "      <script>\n",
              "        const buttonEl =\n",
              "          document.querySelector('#df-d4016b83-d800-4edc-93c9-965d8bd572dd button.colab-df-convert');\n",
              "        buttonEl.style.display =\n",
              "          google.colab.kernel.accessAllowed ? 'block' : 'none';\n",
              "\n",
              "        async function convertToInteractive(key) {\n",
              "          const element = document.querySelector('#df-d4016b83-d800-4edc-93c9-965d8bd572dd');\n",
              "          const dataTable =\n",
              "            await google.colab.kernel.invokeFunction('convertToInteractive',\n",
              "                                                     [key], {});\n",
              "          if (!dataTable) return;\n",
              "\n",
              "          const docLinkHtml = 'Like what you see? Visit the ' +\n",
              "            '<a target=\"_blank\" href=https://colab.research.google.com/notebooks/data_table.ipynb>data table notebook</a>'\n",
              "            + ' to learn more about interactive tables.';\n",
              "          element.innerHTML = '';\n",
              "          dataTable['output_type'] = 'display_data';\n",
              "          await google.colab.output.renderOutput(dataTable, element);\n",
              "          const docLink = document.createElement('div');\n",
              "          docLink.innerHTML = docLinkHtml;\n",
              "          element.appendChild(docLink);\n",
              "        }\n",
              "      </script>\n",
              "    </div>\n",
              "  </div>\n",
              "  "
            ]
          },
          "metadata": {}
        }
      ]
    },
    {
      "cell_type": "code",
      "source": [
        "df1.head()"
      ],
      "metadata": {
        "colab": {
          "base_uri": "https://localhost:8080/",
          "height": 409
        },
        "id": "mZUbxVUxtdN4",
        "outputId": "9fdfd35f-4b58-42d9-83ec-5c62ba636a42"
      },
      "execution_count": null,
      "outputs": [
        {
          "output_type": "execute_result",
          "data": {
            "text/plain": [
              "   Year Industry_aggregation_NZSIOC Industry_code_NZSIOC Industry_name_NZSIOC  \\\n",
              "0  2021                     Level 1                99999       All industries   \n",
              "1  2021                     Level 1                99999       All industries   \n",
              "2  2021                     Level 1                99999       All industries   \n",
              "3  2021                     Level 1                99999       All industries   \n",
              "4  2021                     Level 1                99999       All industries   \n",
              "\n",
              "                Units Variable_code  \\\n",
              "0  Dollars (millions)           H01   \n",
              "1  Dollars (millions)           H04   \n",
              "2  Dollars (millions)           H05   \n",
              "3  Dollars (millions)           H07   \n",
              "4  Dollars (millions)           H08   \n",
              "\n",
              "                                     Variable_name      Variable_category  \\\n",
              "0                                     Total income  Financial performance   \n",
              "1  Sales, government funding, grants and subsidies  Financial performance   \n",
              "2                Interest, dividends and donations  Financial performance   \n",
              "3                             Non-operating income  Financial performance   \n",
              "4                                Total expenditure  Financial performance   \n",
              "\n",
              "     Value                             Industry_code_ANZSIC06  \n",
              "0  757,504  ANZSIC06 divisions A-S (excluding classes K633...  \n",
              "1  674,890  ANZSIC06 divisions A-S (excluding classes K633...  \n",
              "2   49,593  ANZSIC06 divisions A-S (excluding classes K633...  \n",
              "3   33,020  ANZSIC06 divisions A-S (excluding classes K633...  \n",
              "4  654,404  ANZSIC06 divisions A-S (excluding classes K633...  "
            ],
            "text/html": [
              "\n",
              "  <div id=\"df-fa64c9dc-a323-402e-8639-bb1a57983e91\">\n",
              "    <div class=\"colab-df-container\">\n",
              "      <div>\n",
              "<style scoped>\n",
              "    .dataframe tbody tr th:only-of-type {\n",
              "        vertical-align: middle;\n",
              "    }\n",
              "\n",
              "    .dataframe tbody tr th {\n",
              "        vertical-align: top;\n",
              "    }\n",
              "\n",
              "    .dataframe thead th {\n",
              "        text-align: right;\n",
              "    }\n",
              "</style>\n",
              "<table border=\"1\" class=\"dataframe\">\n",
              "  <thead>\n",
              "    <tr style=\"text-align: right;\">\n",
              "      <th></th>\n",
              "      <th>Year</th>\n",
              "      <th>Industry_aggregation_NZSIOC</th>\n",
              "      <th>Industry_code_NZSIOC</th>\n",
              "      <th>Industry_name_NZSIOC</th>\n",
              "      <th>Units</th>\n",
              "      <th>Variable_code</th>\n",
              "      <th>Variable_name</th>\n",
              "      <th>Variable_category</th>\n",
              "      <th>Value</th>\n",
              "      <th>Industry_code_ANZSIC06</th>\n",
              "    </tr>\n",
              "  </thead>\n",
              "  <tbody>\n",
              "    <tr>\n",
              "      <th>0</th>\n",
              "      <td>2021</td>\n",
              "      <td>Level 1</td>\n",
              "      <td>99999</td>\n",
              "      <td>All industries</td>\n",
              "      <td>Dollars (millions)</td>\n",
              "      <td>H01</td>\n",
              "      <td>Total income</td>\n",
              "      <td>Financial performance</td>\n",
              "      <td>757,504</td>\n",
              "      <td>ANZSIC06 divisions A-S (excluding classes K633...</td>\n",
              "    </tr>\n",
              "    <tr>\n",
              "      <th>1</th>\n",
              "      <td>2021</td>\n",
              "      <td>Level 1</td>\n",
              "      <td>99999</td>\n",
              "      <td>All industries</td>\n",
              "      <td>Dollars (millions)</td>\n",
              "      <td>H04</td>\n",
              "      <td>Sales, government funding, grants and subsidies</td>\n",
              "      <td>Financial performance</td>\n",
              "      <td>674,890</td>\n",
              "      <td>ANZSIC06 divisions A-S (excluding classes K633...</td>\n",
              "    </tr>\n",
              "    <tr>\n",
              "      <th>2</th>\n",
              "      <td>2021</td>\n",
              "      <td>Level 1</td>\n",
              "      <td>99999</td>\n",
              "      <td>All industries</td>\n",
              "      <td>Dollars (millions)</td>\n",
              "      <td>H05</td>\n",
              "      <td>Interest, dividends and donations</td>\n",
              "      <td>Financial performance</td>\n",
              "      <td>49,593</td>\n",
              "      <td>ANZSIC06 divisions A-S (excluding classes K633...</td>\n",
              "    </tr>\n",
              "    <tr>\n",
              "      <th>3</th>\n",
              "      <td>2021</td>\n",
              "      <td>Level 1</td>\n",
              "      <td>99999</td>\n",
              "      <td>All industries</td>\n",
              "      <td>Dollars (millions)</td>\n",
              "      <td>H07</td>\n",
              "      <td>Non-operating income</td>\n",
              "      <td>Financial performance</td>\n",
              "      <td>33,020</td>\n",
              "      <td>ANZSIC06 divisions A-S (excluding classes K633...</td>\n",
              "    </tr>\n",
              "    <tr>\n",
              "      <th>4</th>\n",
              "      <td>2021</td>\n",
              "      <td>Level 1</td>\n",
              "      <td>99999</td>\n",
              "      <td>All industries</td>\n",
              "      <td>Dollars (millions)</td>\n",
              "      <td>H08</td>\n",
              "      <td>Total expenditure</td>\n",
              "      <td>Financial performance</td>\n",
              "      <td>654,404</td>\n",
              "      <td>ANZSIC06 divisions A-S (excluding classes K633...</td>\n",
              "    </tr>\n",
              "  </tbody>\n",
              "</table>\n",
              "</div>\n",
              "      <button class=\"colab-df-convert\" onclick=\"convertToInteractive('df-fa64c9dc-a323-402e-8639-bb1a57983e91')\"\n",
              "              title=\"Convert this dataframe to an interactive table.\"\n",
              "              style=\"display:none;\">\n",
              "        \n",
              "  <svg xmlns=\"http://www.w3.org/2000/svg\" height=\"24px\"viewBox=\"0 0 24 24\"\n",
              "       width=\"24px\">\n",
              "    <path d=\"M0 0h24v24H0V0z\" fill=\"none\"/>\n",
              "    <path d=\"M18.56 5.44l.94 2.06.94-2.06 2.06-.94-2.06-.94-.94-2.06-.94 2.06-2.06.94zm-11 1L8.5 8.5l.94-2.06 2.06-.94-2.06-.94L8.5 2.5l-.94 2.06-2.06.94zm10 10l.94 2.06.94-2.06 2.06-.94-2.06-.94-.94-2.06-.94 2.06-2.06.94z\"/><path d=\"M17.41 7.96l-1.37-1.37c-.4-.4-.92-.59-1.43-.59-.52 0-1.04.2-1.43.59L10.3 9.45l-7.72 7.72c-.78.78-.78 2.05 0 2.83L4 21.41c.39.39.9.59 1.41.59.51 0 1.02-.2 1.41-.59l7.78-7.78 2.81-2.81c.8-.78.8-2.07 0-2.86zM5.41 20L4 18.59l7.72-7.72 1.47 1.35L5.41 20z\"/>\n",
              "  </svg>\n",
              "      </button>\n",
              "      \n",
              "  <style>\n",
              "    .colab-df-container {\n",
              "      display:flex;\n",
              "      flex-wrap:wrap;\n",
              "      gap: 12px;\n",
              "    }\n",
              "\n",
              "    .colab-df-convert {\n",
              "      background-color: #E8F0FE;\n",
              "      border: none;\n",
              "      border-radius: 50%;\n",
              "      cursor: pointer;\n",
              "      display: none;\n",
              "      fill: #1967D2;\n",
              "      height: 32px;\n",
              "      padding: 0 0 0 0;\n",
              "      width: 32px;\n",
              "    }\n",
              "\n",
              "    .colab-df-convert:hover {\n",
              "      background-color: #E2EBFA;\n",
              "      box-shadow: 0px 1px 2px rgba(60, 64, 67, 0.3), 0px 1px 3px 1px rgba(60, 64, 67, 0.15);\n",
              "      fill: #174EA6;\n",
              "    }\n",
              "\n",
              "    [theme=dark] .colab-df-convert {\n",
              "      background-color: #3B4455;\n",
              "      fill: #D2E3FC;\n",
              "    }\n",
              "\n",
              "    [theme=dark] .colab-df-convert:hover {\n",
              "      background-color: #434B5C;\n",
              "      box-shadow: 0px 1px 3px 1px rgba(0, 0, 0, 0.15);\n",
              "      filter: drop-shadow(0px 1px 2px rgba(0, 0, 0, 0.3));\n",
              "      fill: #FFFFFF;\n",
              "    }\n",
              "  </style>\n",
              "\n",
              "      <script>\n",
              "        const buttonEl =\n",
              "          document.querySelector('#df-fa64c9dc-a323-402e-8639-bb1a57983e91 button.colab-df-convert');\n",
              "        buttonEl.style.display =\n",
              "          google.colab.kernel.accessAllowed ? 'block' : 'none';\n",
              "\n",
              "        async function convertToInteractive(key) {\n",
              "          const element = document.querySelector('#df-fa64c9dc-a323-402e-8639-bb1a57983e91');\n",
              "          const dataTable =\n",
              "            await google.colab.kernel.invokeFunction('convertToInteractive',\n",
              "                                                     [key], {});\n",
              "          if (!dataTable) return;\n",
              "\n",
              "          const docLinkHtml = 'Like what you see? Visit the ' +\n",
              "            '<a target=\"_blank\" href=https://colab.research.google.com/notebooks/data_table.ipynb>data table notebook</a>'\n",
              "            + ' to learn more about interactive tables.';\n",
              "          element.innerHTML = '';\n",
              "          dataTable['output_type'] = 'display_data';\n",
              "          await google.colab.output.renderOutput(dataTable, element);\n",
              "          const docLink = document.createElement('div');\n",
              "          docLink.innerHTML = docLinkHtml;\n",
              "          element.appendChild(docLink);\n",
              "        }\n",
              "      </script>\n",
              "    </div>\n",
              "  </div>\n",
              "  "
            ]
          },
          "metadata": {},
          "execution_count": 74
        }
      ]
    },
    {
      "cell_type": "code",
      "source": [
        "type(df1)"
      ],
      "metadata": {
        "colab": {
          "base_uri": "https://localhost:8080/"
        },
        "id": "yGjptmc-tnb4",
        "outputId": "8fd74619-fe0b-4879-ab39-338a1ff88076"
      },
      "execution_count": null,
      "outputs": [
        {
          "output_type": "execute_result",
          "data": {
            "text/plain": [
              "pandas.core.frame.DataFrame"
            ]
          },
          "metadata": {},
          "execution_count": 18
        }
      ]
    },
    {
      "cell_type": "code",
      "source": [
        "df1.shape()"
      ],
      "metadata": {
        "id": "IzpH4dJpuxto",
        "colab": {
          "base_uri": "https://localhost:8080/",
          "height": 169
        },
        "outputId": "becebeeb-cc95-4a90-eb7c-44f34c46429a"
      },
      "execution_count": null,
      "outputs": [
        {
          "output_type": "error",
          "ename": "TypeError",
          "evalue": "ignored",
          "traceback": [
            "\u001b[0;31m---------------------------------------------------------------------------\u001b[0m",
            "\u001b[0;31mTypeError\u001b[0m                                 Traceback (most recent call last)",
            "\u001b[0;32m<ipython-input-21-ba27d198a22d>\u001b[0m in \u001b[0;36m<module>\u001b[0;34m\u001b[0m\n\u001b[0;32m----> 1\u001b[0;31m \u001b[0mdf1\u001b[0m\u001b[0;34m.\u001b[0m\u001b[0mshape\u001b[0m\u001b[0;34m(\u001b[0m\u001b[0;36m10\u001b[0m\u001b[0;34m,\u001b[0m \u001b[0;36m3\u001b[0m\u001b[0;34m)\u001b[0m\u001b[0;34m\u001b[0m\u001b[0;34m\u001b[0m\u001b[0m\n\u001b[0m",
            "\u001b[0;31mTypeError\u001b[0m: 'tuple' object is not callable"
          ]
        }
      ]
    },
    {
      "cell_type": "code",
      "source": [
        "df1.info()"
      ],
      "metadata": {
        "colab": {
          "base_uri": "https://localhost:8080/"
        },
        "id": "m3PLRH5Kw4hp",
        "outputId": "d9360442-2f1c-412c-d12e-077f28300c35"
      },
      "execution_count": null,
      "outputs": [
        {
          "output_type": "stream",
          "name": "stdout",
          "text": [
            "<class 'pandas.core.frame.DataFrame'>\n",
            "RangeIndex: 41715 entries, 0 to 41714\n",
            "Data columns (total 10 columns):\n",
            " #   Column                       Non-Null Count  Dtype \n",
            "---  ------                       --------------  ----- \n",
            " 0   Year                         41715 non-null  int64 \n",
            " 1   Industry_aggregation_NZSIOC  41715 non-null  object\n",
            " 2   Industry_code_NZSIOC         41715 non-null  object\n",
            " 3   Industry_name_NZSIOC         41715 non-null  object\n",
            " 4   Units                        41715 non-null  object\n",
            " 5   Variable_code                41715 non-null  object\n",
            " 6   Variable_name                41715 non-null  object\n",
            " 7   Variable_category            41715 non-null  object\n",
            " 8   Value                        41715 non-null  object\n",
            " 9   Industry_code_ANZSIC06       41715 non-null  object\n",
            "dtypes: int64(1), object(9)\n",
            "memory usage: 3.2+ MB\n"
          ]
        }
      ]
    },
    {
      "cell_type": "code",
      "source": [
        "df1.columns"
      ],
      "metadata": {
        "colab": {
          "base_uri": "https://localhost:8080/"
        },
        "id": "mk_7QgKfxAtE",
        "outputId": "72eb921f-6918-4bd2-8a6f-c47209462355"
      },
      "execution_count": null,
      "outputs": [
        {
          "output_type": "execute_result",
          "data": {
            "text/plain": [
              "Index(['Year', 'Industry_aggregation_NZSIOC', 'Industry_code_NZSIOC',\n",
              "       'Industry_name_NZSIOC', 'Units', 'Variable_code', 'Variable_name',\n",
              "       'Variable_category', 'Value', 'Industry_code_ANZSIC06'],\n",
              "      dtype='object')"
            ]
          },
          "metadata": {},
          "execution_count": 23
        }
      ]
    },
    {
      "cell_type": "code",
      "source": [
        "type(df1.columns)"
      ],
      "metadata": {
        "colab": {
          "base_uri": "https://localhost:8080/"
        },
        "id": "MI_5aNv6xFVY",
        "outputId": "cb71f4c1-f0d3-4395-9d86-7fb2e3594fa4"
      },
      "execution_count": null,
      "outputs": [
        {
          "output_type": "execute_result",
          "data": {
            "text/plain": [
              "pandas.core.indexes.base.Index"
            ]
          },
          "metadata": {},
          "execution_count": 24
        }
      ]
    },
    {
      "cell_type": "code",
      "source": [
        "df1.dtypes"
      ],
      "metadata": {
        "colab": {
          "base_uri": "https://localhost:8080/"
        },
        "id": "91rHQ1hexKJL",
        "outputId": "3cd0f7a7-6da6-4719-f205-5e0eb5f30c02"
      },
      "execution_count": null,
      "outputs": [
        {
          "output_type": "execute_result",
          "data": {
            "text/plain": [
              "Year                            int64\n",
              "Industry_aggregation_NZSIOC    object\n",
              "Industry_code_NZSIOC           object\n",
              "Industry_name_NZSIOC           object\n",
              "Units                          object\n",
              "Variable_code                  object\n",
              "Variable_name                  object\n",
              "Variable_category              object\n",
              "Value                          object\n",
              "Industry_code_ANZSIC06         object\n",
              "dtype: object"
            ]
          },
          "metadata": {},
          "execution_count": 25
        }
      ]
    },
    {
      "cell_type": "code",
      "source": [
        "type(df1.dtypes)"
      ],
      "metadata": {
        "colab": {
          "base_uri": "https://localhost:8080/"
        },
        "id": "_pkI_pl6xODJ",
        "outputId": "02ce6ac1-f170-4091-927b-d82b90727ce1"
      },
      "execution_count": null,
      "outputs": [
        {
          "output_type": "execute_result",
          "data": {
            "text/plain": [
              "pandas.core.series.Series"
            ]
          },
          "metadata": {},
          "execution_count": 27
        }
      ]
    },
    {
      "cell_type": "code",
      "source": [
        "year_df1 = df1['Year']\n",
        "print(type(year_df1))\n",
        "year_df1.head()"
      ],
      "metadata": {
        "colab": {
          "base_uri": "https://localhost:8080/"
        },
        "id": "4OF1zIOAxT4x",
        "outputId": "053ed848-59c4-4932-9bcc-5495c267cf82"
      },
      "execution_count": null,
      "outputs": [
        {
          "output_type": "stream",
          "name": "stdout",
          "text": [
            "<class 'pandas.core.series.Series'>\n"
          ]
        },
        {
          "output_type": "execute_result",
          "data": {
            "text/plain": [
              "0    2021\n",
              "1    2021\n",
              "2    2021\n",
              "3    2021\n",
              "4    2021\n",
              "Name: Year, dtype: int64"
            ]
          },
          "metadata": {},
          "execution_count": 29
        }
      ]
    },
    {
      "cell_type": "code",
      "source": [
        "df1.Year.head()"
      ],
      "metadata": {
        "colab": {
          "base_uri": "https://localhost:8080/"
        },
        "id": "8hvHq6nyxy8t",
        "outputId": "155b8b60-8d3e-4bf0-82c2-b71f4b921a04"
      },
      "execution_count": null,
      "outputs": [
        {
          "output_type": "execute_result",
          "data": {
            "text/plain": [
              "0    2021\n",
              "1    2021\n",
              "2    2021\n",
              "3    2021\n",
              "4    2021\n",
              "Name: Year, dtype: int64"
            ]
          },
          "metadata": {},
          "execution_count": 31
        }
      ]
    },
    {
      "cell_type": "code",
      "source": [
        "print(df1.size)\n",
        "print(df1.shape)"
      ],
      "metadata": {
        "colab": {
          "base_uri": "https://localhost:8080/"
        },
        "id": "Q87Z2ydDx71t",
        "outputId": "1ee23902-0ec5-43cd-8819-2d6b1e2752ab"
      },
      "execution_count": null,
      "outputs": [
        {
          "output_type": "stream",
          "name": "stdout",
          "text": [
            "417150\n",
            "(41715, 10)\n"
          ]
        }
      ]
    },
    {
      "cell_type": "code",
      "source": [
        "df1[['Year', 'Industry_aggregation_NZSIOC', 'Industry_code_NZSIOC']].head()"
      ],
      "metadata": {
        "colab": {
          "base_uri": "https://localhost:8080/",
          "height": 206
        },
        "id": "IvxlSiRJyBW8",
        "outputId": "7017a6a8-3f56-4167-8273-a7520db5042b"
      },
      "execution_count": null,
      "outputs": [
        {
          "output_type": "execute_result",
          "data": {
            "text/plain": [
              "   Year Industry_aggregation_NZSIOC Industry_code_NZSIOC\n",
              "0  2021                     Level 1                99999\n",
              "1  2021                     Level 1                99999\n",
              "2  2021                     Level 1                99999\n",
              "3  2021                     Level 1                99999\n",
              "4  2021                     Level 1                99999"
            ],
            "text/html": [
              "\n",
              "  <div id=\"df-48adf730-137a-40b4-a423-054171dfc443\">\n",
              "    <div class=\"colab-df-container\">\n",
              "      <div>\n",
              "<style scoped>\n",
              "    .dataframe tbody tr th:only-of-type {\n",
              "        vertical-align: middle;\n",
              "    }\n",
              "\n",
              "    .dataframe tbody tr th {\n",
              "        vertical-align: top;\n",
              "    }\n",
              "\n",
              "    .dataframe thead th {\n",
              "        text-align: right;\n",
              "    }\n",
              "</style>\n",
              "<table border=\"1\" class=\"dataframe\">\n",
              "  <thead>\n",
              "    <tr style=\"text-align: right;\">\n",
              "      <th></th>\n",
              "      <th>Year</th>\n",
              "      <th>Industry_aggregation_NZSIOC</th>\n",
              "      <th>Industry_code_NZSIOC</th>\n",
              "    </tr>\n",
              "  </thead>\n",
              "  <tbody>\n",
              "    <tr>\n",
              "      <th>0</th>\n",
              "      <td>2021</td>\n",
              "      <td>Level 1</td>\n",
              "      <td>99999</td>\n",
              "    </tr>\n",
              "    <tr>\n",
              "      <th>1</th>\n",
              "      <td>2021</td>\n",
              "      <td>Level 1</td>\n",
              "      <td>99999</td>\n",
              "    </tr>\n",
              "    <tr>\n",
              "      <th>2</th>\n",
              "      <td>2021</td>\n",
              "      <td>Level 1</td>\n",
              "      <td>99999</td>\n",
              "    </tr>\n",
              "    <tr>\n",
              "      <th>3</th>\n",
              "      <td>2021</td>\n",
              "      <td>Level 1</td>\n",
              "      <td>99999</td>\n",
              "    </tr>\n",
              "    <tr>\n",
              "      <th>4</th>\n",
              "      <td>2021</td>\n",
              "      <td>Level 1</td>\n",
              "      <td>99999</td>\n",
              "    </tr>\n",
              "  </tbody>\n",
              "</table>\n",
              "</div>\n",
              "      <button class=\"colab-df-convert\" onclick=\"convertToInteractive('df-48adf730-137a-40b4-a423-054171dfc443')\"\n",
              "              title=\"Convert this dataframe to an interactive table.\"\n",
              "              style=\"display:none;\">\n",
              "        \n",
              "  <svg xmlns=\"http://www.w3.org/2000/svg\" height=\"24px\"viewBox=\"0 0 24 24\"\n",
              "       width=\"24px\">\n",
              "    <path d=\"M0 0h24v24H0V0z\" fill=\"none\"/>\n",
              "    <path d=\"M18.56 5.44l.94 2.06.94-2.06 2.06-.94-2.06-.94-.94-2.06-.94 2.06-2.06.94zm-11 1L8.5 8.5l.94-2.06 2.06-.94-2.06-.94L8.5 2.5l-.94 2.06-2.06.94zm10 10l.94 2.06.94-2.06 2.06-.94-2.06-.94-.94-2.06-.94 2.06-2.06.94z\"/><path d=\"M17.41 7.96l-1.37-1.37c-.4-.4-.92-.59-1.43-.59-.52 0-1.04.2-1.43.59L10.3 9.45l-7.72 7.72c-.78.78-.78 2.05 0 2.83L4 21.41c.39.39.9.59 1.41.59.51 0 1.02-.2 1.41-.59l7.78-7.78 2.81-2.81c.8-.78.8-2.07 0-2.86zM5.41 20L4 18.59l7.72-7.72 1.47 1.35L5.41 20z\"/>\n",
              "  </svg>\n",
              "      </button>\n",
              "      \n",
              "  <style>\n",
              "    .colab-df-container {\n",
              "      display:flex;\n",
              "      flex-wrap:wrap;\n",
              "      gap: 12px;\n",
              "    }\n",
              "\n",
              "    .colab-df-convert {\n",
              "      background-color: #E8F0FE;\n",
              "      border: none;\n",
              "      border-radius: 50%;\n",
              "      cursor: pointer;\n",
              "      display: none;\n",
              "      fill: #1967D2;\n",
              "      height: 32px;\n",
              "      padding: 0 0 0 0;\n",
              "      width: 32px;\n",
              "    }\n",
              "\n",
              "    .colab-df-convert:hover {\n",
              "      background-color: #E2EBFA;\n",
              "      box-shadow: 0px 1px 2px rgba(60, 64, 67, 0.3), 0px 1px 3px 1px rgba(60, 64, 67, 0.15);\n",
              "      fill: #174EA6;\n",
              "    }\n",
              "\n",
              "    [theme=dark] .colab-df-convert {\n",
              "      background-color: #3B4455;\n",
              "      fill: #D2E3FC;\n",
              "    }\n",
              "\n",
              "    [theme=dark] .colab-df-convert:hover {\n",
              "      background-color: #434B5C;\n",
              "      box-shadow: 0px 1px 3px 1px rgba(0, 0, 0, 0.15);\n",
              "      filter: drop-shadow(0px 1px 2px rgba(0, 0, 0, 0.3));\n",
              "      fill: #FFFFFF;\n",
              "    }\n",
              "  </style>\n",
              "\n",
              "      <script>\n",
              "        const buttonEl =\n",
              "          document.querySelector('#df-48adf730-137a-40b4-a423-054171dfc443 button.colab-df-convert');\n",
              "        buttonEl.style.display =\n",
              "          google.colab.kernel.accessAllowed ? 'block' : 'none';\n",
              "\n",
              "        async function convertToInteractive(key) {\n",
              "          const element = document.querySelector('#df-48adf730-137a-40b4-a423-054171dfc443');\n",
              "          const dataTable =\n",
              "            await google.colab.kernel.invokeFunction('convertToInteractive',\n",
              "                                                     [key], {});\n",
              "          if (!dataTable) return;\n",
              "\n",
              "          const docLinkHtml = 'Like what you see? Visit the ' +\n",
              "            '<a target=\"_blank\" href=https://colab.research.google.com/notebooks/data_table.ipynb>data table notebook</a>'\n",
              "            + ' to learn more about interactive tables.';\n",
              "          element.innerHTML = '';\n",
              "          dataTable['output_type'] = 'display_data';\n",
              "          await google.colab.output.renderOutput(dataTable, element);\n",
              "          const docLink = document.createElement('div');\n",
              "          docLink.innerHTML = docLinkHtml;\n",
              "          element.appendChild(docLink);\n",
              "        }\n",
              "      </script>\n",
              "    </div>\n",
              "  </div>\n",
              "  "
            ]
          },
          "metadata": {},
          "execution_count": 35
        }
      ]
    },
    {
      "cell_type": "code",
      "source": [
        "df1.loc[0]"
      ],
      "metadata": {
        "colab": {
          "base_uri": "https://localhost:8080/"
        },
        "id": "YCudUyStyazY",
        "outputId": "27149ef2-0e17-4633-b1ce-66289e99ecc3"
      },
      "execution_count": null,
      "outputs": [
        {
          "output_type": "execute_result",
          "data": {
            "text/plain": [
              "Year                                                                        2021\n",
              "Industry_aggregation_NZSIOC                                              Level 1\n",
              "Industry_code_NZSIOC                                                       99999\n",
              "Industry_name_NZSIOC                                              All industries\n",
              "Units                                                         Dollars (millions)\n",
              "Variable_code                                                                H01\n",
              "Variable_name                                                       Total income\n",
              "Variable_category                                          Financial performance\n",
              "Value                                                                    757,504\n",
              "Industry_code_ANZSIC06         ANZSIC06 divisions A-S (excluding classes K633...\n",
              "Name: 0, dtype: object"
            ]
          },
          "metadata": {},
          "execution_count": 36
        }
      ]
    },
    {
      "cell_type": "code",
      "source": [
        "df1.loc[99]"
      ],
      "metadata": {
        "colab": {
          "base_uri": "https://localhost:8080/"
        },
        "id": "l_70QcZ-ye7m",
        "outputId": "31671dfc-bac3-43da-d71e-b54248bbe8aa"
      },
      "execution_count": null,
      "outputs": [
        {
          "output_type": "execute_result",
          "data": {
            "text/plain": [
              "Year                                                           2021\n",
              "Industry_aggregation_NZSIOC                                 Level 4\n",
              "Industry_code_NZSIOC                                          AA111\n",
              "Industry_name_NZSIOC                 Horticulture and Fruit Growing\n",
              "Units                                            Dollars (millions)\n",
              "Variable_code                                                   H11\n",
              "Variable_name                                          Depreciation\n",
              "Variable_category                             Financial performance\n",
              "Value                                                           278\n",
              "Industry_code_ANZSIC06         ANZSIC06 groups A011, A012, and A013\n",
              "Name: 99, dtype: object"
            ]
          },
          "metadata": {},
          "execution_count": 37
        }
      ]
    },
    {
      "cell_type": "code",
      "source": [
        "df1.loc[[0, 99, 999]]"
      ],
      "metadata": {
        "colab": {
          "base_uri": "https://localhost:8080/",
          "height": 277
        },
        "id": "4rsztQSzyibz",
        "outputId": "08cda15d-b835-4db2-974e-520c30ff1978"
      },
      "execution_count": null,
      "outputs": [
        {
          "output_type": "execute_result",
          "data": {
            "text/plain": [
              "     Year Industry_aggregation_NZSIOC Industry_code_NZSIOC  \\\n",
              "0    2021                     Level 1                99999   \n",
              "99   2021                     Level 4                AA111   \n",
              "999  2021                     Level 4                CC521   \n",
              "\n",
              "                               Industry_name_NZSIOC               Units  \\\n",
              "0                                    All industries  Dollars (millions)   \n",
              "99                   Horticulture and Fruit Growing  Dollars (millions)   \n",
              "999  Basic Chemical and Basic Polymer Manufacturing  Dollars (millions)   \n",
              "\n",
              "    Variable_code                Variable_name      Variable_category  \\\n",
              "0             H01                 Total income  Financial performance   \n",
              "99            H11                 Depreciation  Financial performance   \n",
              "999           H04  Sales of goods and services  Financial performance   \n",
              "\n",
              "       Value                             Industry_code_ANZSIC06  \n",
              "0    757,504  ANZSIC06 divisions A-S (excluding classes K633...  \n",
              "99       278               ANZSIC06 groups A011, A012, and A013  \n",
              "999    1,573                      ANZSIC06 groups C181 and C182  "
            ],
            "text/html": [
              "\n",
              "  <div id=\"df-279ef902-e654-4997-8e56-303b79507a2b\">\n",
              "    <div class=\"colab-df-container\">\n",
              "      <div>\n",
              "<style scoped>\n",
              "    .dataframe tbody tr th:only-of-type {\n",
              "        vertical-align: middle;\n",
              "    }\n",
              "\n",
              "    .dataframe tbody tr th {\n",
              "        vertical-align: top;\n",
              "    }\n",
              "\n",
              "    .dataframe thead th {\n",
              "        text-align: right;\n",
              "    }\n",
              "</style>\n",
              "<table border=\"1\" class=\"dataframe\">\n",
              "  <thead>\n",
              "    <tr style=\"text-align: right;\">\n",
              "      <th></th>\n",
              "      <th>Year</th>\n",
              "      <th>Industry_aggregation_NZSIOC</th>\n",
              "      <th>Industry_code_NZSIOC</th>\n",
              "      <th>Industry_name_NZSIOC</th>\n",
              "      <th>Units</th>\n",
              "      <th>Variable_code</th>\n",
              "      <th>Variable_name</th>\n",
              "      <th>Variable_category</th>\n",
              "      <th>Value</th>\n",
              "      <th>Industry_code_ANZSIC06</th>\n",
              "    </tr>\n",
              "  </thead>\n",
              "  <tbody>\n",
              "    <tr>\n",
              "      <th>0</th>\n",
              "      <td>2021</td>\n",
              "      <td>Level 1</td>\n",
              "      <td>99999</td>\n",
              "      <td>All industries</td>\n",
              "      <td>Dollars (millions)</td>\n",
              "      <td>H01</td>\n",
              "      <td>Total income</td>\n",
              "      <td>Financial performance</td>\n",
              "      <td>757,504</td>\n",
              "      <td>ANZSIC06 divisions A-S (excluding classes K633...</td>\n",
              "    </tr>\n",
              "    <tr>\n",
              "      <th>99</th>\n",
              "      <td>2021</td>\n",
              "      <td>Level 4</td>\n",
              "      <td>AA111</td>\n",
              "      <td>Horticulture and Fruit Growing</td>\n",
              "      <td>Dollars (millions)</td>\n",
              "      <td>H11</td>\n",
              "      <td>Depreciation</td>\n",
              "      <td>Financial performance</td>\n",
              "      <td>278</td>\n",
              "      <td>ANZSIC06 groups A011, A012, and A013</td>\n",
              "    </tr>\n",
              "    <tr>\n",
              "      <th>999</th>\n",
              "      <td>2021</td>\n",
              "      <td>Level 4</td>\n",
              "      <td>CC521</td>\n",
              "      <td>Basic Chemical and Basic Polymer Manufacturing</td>\n",
              "      <td>Dollars (millions)</td>\n",
              "      <td>H04</td>\n",
              "      <td>Sales of goods and services</td>\n",
              "      <td>Financial performance</td>\n",
              "      <td>1,573</td>\n",
              "      <td>ANZSIC06 groups C181 and C182</td>\n",
              "    </tr>\n",
              "  </tbody>\n",
              "</table>\n",
              "</div>\n",
              "      <button class=\"colab-df-convert\" onclick=\"convertToInteractive('df-279ef902-e654-4997-8e56-303b79507a2b')\"\n",
              "              title=\"Convert this dataframe to an interactive table.\"\n",
              "              style=\"display:none;\">\n",
              "        \n",
              "  <svg xmlns=\"http://www.w3.org/2000/svg\" height=\"24px\"viewBox=\"0 0 24 24\"\n",
              "       width=\"24px\">\n",
              "    <path d=\"M0 0h24v24H0V0z\" fill=\"none\"/>\n",
              "    <path d=\"M18.56 5.44l.94 2.06.94-2.06 2.06-.94-2.06-.94-.94-2.06-.94 2.06-2.06.94zm-11 1L8.5 8.5l.94-2.06 2.06-.94-2.06-.94L8.5 2.5l-.94 2.06-2.06.94zm10 10l.94 2.06.94-2.06 2.06-.94-2.06-.94-.94-2.06-.94 2.06-2.06.94z\"/><path d=\"M17.41 7.96l-1.37-1.37c-.4-.4-.92-.59-1.43-.59-.52 0-1.04.2-1.43.59L10.3 9.45l-7.72 7.72c-.78.78-.78 2.05 0 2.83L4 21.41c.39.39.9.59 1.41.59.51 0 1.02-.2 1.41-.59l7.78-7.78 2.81-2.81c.8-.78.8-2.07 0-2.86zM5.41 20L4 18.59l7.72-7.72 1.47 1.35L5.41 20z\"/>\n",
              "  </svg>\n",
              "      </button>\n",
              "      \n",
              "  <style>\n",
              "    .colab-df-container {\n",
              "      display:flex;\n",
              "      flex-wrap:wrap;\n",
              "      gap: 12px;\n",
              "    }\n",
              "\n",
              "    .colab-df-convert {\n",
              "      background-color: #E8F0FE;\n",
              "      border: none;\n",
              "      border-radius: 50%;\n",
              "      cursor: pointer;\n",
              "      display: none;\n",
              "      fill: #1967D2;\n",
              "      height: 32px;\n",
              "      padding: 0 0 0 0;\n",
              "      width: 32px;\n",
              "    }\n",
              "\n",
              "    .colab-df-convert:hover {\n",
              "      background-color: #E2EBFA;\n",
              "      box-shadow: 0px 1px 2px rgba(60, 64, 67, 0.3), 0px 1px 3px 1px rgba(60, 64, 67, 0.15);\n",
              "      fill: #174EA6;\n",
              "    }\n",
              "\n",
              "    [theme=dark] .colab-df-convert {\n",
              "      background-color: #3B4455;\n",
              "      fill: #D2E3FC;\n",
              "    }\n",
              "\n",
              "    [theme=dark] .colab-df-convert:hover {\n",
              "      background-color: #434B5C;\n",
              "      box-shadow: 0px 1px 3px 1px rgba(0, 0, 0, 0.15);\n",
              "      filter: drop-shadow(0px 1px 2px rgba(0, 0, 0, 0.3));\n",
              "      fill: #FFFFFF;\n",
              "    }\n",
              "  </style>\n",
              "\n",
              "      <script>\n",
              "        const buttonEl =\n",
              "          document.querySelector('#df-279ef902-e654-4997-8e56-303b79507a2b button.colab-df-convert');\n",
              "        buttonEl.style.display =\n",
              "          google.colab.kernel.accessAllowed ? 'block' : 'none';\n",
              "\n",
              "        async function convertToInteractive(key) {\n",
              "          const element = document.querySelector('#df-279ef902-e654-4997-8e56-303b79507a2b');\n",
              "          const dataTable =\n",
              "            await google.colab.kernel.invokeFunction('convertToInteractive',\n",
              "                                                     [key], {});\n",
              "          if (!dataTable) return;\n",
              "\n",
              "          const docLinkHtml = 'Like what you see? Visit the ' +\n",
              "            '<a target=\"_blank\" href=https://colab.research.google.com/notebooks/data_table.ipynb>data table notebook</a>'\n",
              "            + ' to learn more about interactive tables.';\n",
              "          element.innerHTML = '';\n",
              "          dataTable['output_type'] = 'display_data';\n",
              "          await google.colab.output.renderOutput(dataTable, element);\n",
              "          const docLink = document.createElement('div');\n",
              "          docLink.innerHTML = docLinkHtml;\n",
              "          element.appendChild(docLink);\n",
              "        }\n",
              "      </script>\n",
              "    </div>\n",
              "  </div>\n",
              "  "
            ]
          },
          "metadata": {},
          "execution_count": 41
        }
      ]
    },
    {
      "cell_type": "code",
      "source": [
        "df1.iloc[0]"
      ],
      "metadata": {
        "colab": {
          "base_uri": "https://localhost:8080/"
        },
        "id": "vs1fVHaZyu01",
        "outputId": "cd2620c2-02fe-4778-ad38-e5416e0a2cfb"
      },
      "execution_count": null,
      "outputs": [
        {
          "output_type": "execute_result",
          "data": {
            "text/plain": [
              "Year                                                                        2021\n",
              "Industry_aggregation_NZSIOC                                              Level 1\n",
              "Industry_code_NZSIOC                                                       99999\n",
              "Industry_name_NZSIOC                                              All industries\n",
              "Units                                                         Dollars (millions)\n",
              "Variable_code                                                                H01\n",
              "Variable_name                                                       Total income\n",
              "Variable_category                                          Financial performance\n",
              "Value                                                                    757,504\n",
              "Industry_code_ANZSIC06         ANZSIC06 divisions A-S (excluding classes K633...\n",
              "Name: 0, dtype: object"
            ]
          },
          "metadata": {},
          "execution_count": 42
        }
      ]
    },
    {
      "cell_type": "code",
      "source": [
        "df1.iloc[99]"
      ],
      "metadata": {
        "colab": {
          "base_uri": "https://localhost:8080/"
        },
        "id": "7waLJskeyy8p",
        "outputId": "71fc67f5-6491-4318-c4a4-c4c4093095ea"
      },
      "execution_count": null,
      "outputs": [
        {
          "output_type": "execute_result",
          "data": {
            "text/plain": [
              "Year                                                           2021\n",
              "Industry_aggregation_NZSIOC                                 Level 4\n",
              "Industry_code_NZSIOC                                          AA111\n",
              "Industry_name_NZSIOC                 Horticulture and Fruit Growing\n",
              "Units                                            Dollars (millions)\n",
              "Variable_code                                                   H11\n",
              "Variable_name                                          Depreciation\n",
              "Variable_category                             Financial performance\n",
              "Value                                                           278\n",
              "Industry_code_ANZSIC06         ANZSIC06 groups A011, A012, and A013\n",
              "Name: 99, dtype: object"
            ]
          },
          "metadata": {},
          "execution_count": 44
        }
      ]
    },
    {
      "cell_type": "code",
      "source": [
        "df1.iloc[[0,99,999]]"
      ],
      "metadata": {
        "colab": {
          "base_uri": "https://localhost:8080/",
          "height": 277
        },
        "id": "jvOpgnZ_y20S",
        "outputId": "7a6b8340-4746-44d2-eb22-1dbf879f19c4"
      },
      "execution_count": null,
      "outputs": [
        {
          "output_type": "execute_result",
          "data": {
            "text/plain": [
              "     Year Industry_aggregation_NZSIOC Industry_code_NZSIOC  \\\n",
              "0    2021                     Level 1                99999   \n",
              "99   2021                     Level 4                AA111   \n",
              "999  2021                     Level 4                CC521   \n",
              "\n",
              "                               Industry_name_NZSIOC               Units  \\\n",
              "0                                    All industries  Dollars (millions)   \n",
              "99                   Horticulture and Fruit Growing  Dollars (millions)   \n",
              "999  Basic Chemical and Basic Polymer Manufacturing  Dollars (millions)   \n",
              "\n",
              "    Variable_code                Variable_name      Variable_category  \\\n",
              "0             H01                 Total income  Financial performance   \n",
              "99            H11                 Depreciation  Financial performance   \n",
              "999           H04  Sales of goods and services  Financial performance   \n",
              "\n",
              "       Value                             Industry_code_ANZSIC06  \n",
              "0    757,504  ANZSIC06 divisions A-S (excluding classes K633...  \n",
              "99       278               ANZSIC06 groups A011, A012, and A013  \n",
              "999    1,573                      ANZSIC06 groups C181 and C182  "
            ],
            "text/html": [
              "\n",
              "  <div id=\"df-79a8e019-bf97-46ce-9029-95c334d70fc5\">\n",
              "    <div class=\"colab-df-container\">\n",
              "      <div>\n",
              "<style scoped>\n",
              "    .dataframe tbody tr th:only-of-type {\n",
              "        vertical-align: middle;\n",
              "    }\n",
              "\n",
              "    .dataframe tbody tr th {\n",
              "        vertical-align: top;\n",
              "    }\n",
              "\n",
              "    .dataframe thead th {\n",
              "        text-align: right;\n",
              "    }\n",
              "</style>\n",
              "<table border=\"1\" class=\"dataframe\">\n",
              "  <thead>\n",
              "    <tr style=\"text-align: right;\">\n",
              "      <th></th>\n",
              "      <th>Year</th>\n",
              "      <th>Industry_aggregation_NZSIOC</th>\n",
              "      <th>Industry_code_NZSIOC</th>\n",
              "      <th>Industry_name_NZSIOC</th>\n",
              "      <th>Units</th>\n",
              "      <th>Variable_code</th>\n",
              "      <th>Variable_name</th>\n",
              "      <th>Variable_category</th>\n",
              "      <th>Value</th>\n",
              "      <th>Industry_code_ANZSIC06</th>\n",
              "    </tr>\n",
              "  </thead>\n",
              "  <tbody>\n",
              "    <tr>\n",
              "      <th>0</th>\n",
              "      <td>2021</td>\n",
              "      <td>Level 1</td>\n",
              "      <td>99999</td>\n",
              "      <td>All industries</td>\n",
              "      <td>Dollars (millions)</td>\n",
              "      <td>H01</td>\n",
              "      <td>Total income</td>\n",
              "      <td>Financial performance</td>\n",
              "      <td>757,504</td>\n",
              "      <td>ANZSIC06 divisions A-S (excluding classes K633...</td>\n",
              "    </tr>\n",
              "    <tr>\n",
              "      <th>99</th>\n",
              "      <td>2021</td>\n",
              "      <td>Level 4</td>\n",
              "      <td>AA111</td>\n",
              "      <td>Horticulture and Fruit Growing</td>\n",
              "      <td>Dollars (millions)</td>\n",
              "      <td>H11</td>\n",
              "      <td>Depreciation</td>\n",
              "      <td>Financial performance</td>\n",
              "      <td>278</td>\n",
              "      <td>ANZSIC06 groups A011, A012, and A013</td>\n",
              "    </tr>\n",
              "    <tr>\n",
              "      <th>999</th>\n",
              "      <td>2021</td>\n",
              "      <td>Level 4</td>\n",
              "      <td>CC521</td>\n",
              "      <td>Basic Chemical and Basic Polymer Manufacturing</td>\n",
              "      <td>Dollars (millions)</td>\n",
              "      <td>H04</td>\n",
              "      <td>Sales of goods and services</td>\n",
              "      <td>Financial performance</td>\n",
              "      <td>1,573</td>\n",
              "      <td>ANZSIC06 groups C181 and C182</td>\n",
              "    </tr>\n",
              "  </tbody>\n",
              "</table>\n",
              "</div>\n",
              "      <button class=\"colab-df-convert\" onclick=\"convertToInteractive('df-79a8e019-bf97-46ce-9029-95c334d70fc5')\"\n",
              "              title=\"Convert this dataframe to an interactive table.\"\n",
              "              style=\"display:none;\">\n",
              "        \n",
              "  <svg xmlns=\"http://www.w3.org/2000/svg\" height=\"24px\"viewBox=\"0 0 24 24\"\n",
              "       width=\"24px\">\n",
              "    <path d=\"M0 0h24v24H0V0z\" fill=\"none\"/>\n",
              "    <path d=\"M18.56 5.44l.94 2.06.94-2.06 2.06-.94-2.06-.94-.94-2.06-.94 2.06-2.06.94zm-11 1L8.5 8.5l.94-2.06 2.06-.94-2.06-.94L8.5 2.5l-.94 2.06-2.06.94zm10 10l.94 2.06.94-2.06 2.06-.94-2.06-.94-.94-2.06-.94 2.06-2.06.94z\"/><path d=\"M17.41 7.96l-1.37-1.37c-.4-.4-.92-.59-1.43-.59-.52 0-1.04.2-1.43.59L10.3 9.45l-7.72 7.72c-.78.78-.78 2.05 0 2.83L4 21.41c.39.39.9.59 1.41.59.51 0 1.02-.2 1.41-.59l7.78-7.78 2.81-2.81c.8-.78.8-2.07 0-2.86zM5.41 20L4 18.59l7.72-7.72 1.47 1.35L5.41 20z\"/>\n",
              "  </svg>\n",
              "      </button>\n",
              "      \n",
              "  <style>\n",
              "    .colab-df-container {\n",
              "      display:flex;\n",
              "      flex-wrap:wrap;\n",
              "      gap: 12px;\n",
              "    }\n",
              "\n",
              "    .colab-df-convert {\n",
              "      background-color: #E8F0FE;\n",
              "      border: none;\n",
              "      border-radius: 50%;\n",
              "      cursor: pointer;\n",
              "      display: none;\n",
              "      fill: #1967D2;\n",
              "      height: 32px;\n",
              "      padding: 0 0 0 0;\n",
              "      width: 32px;\n",
              "    }\n",
              "\n",
              "    .colab-df-convert:hover {\n",
              "      background-color: #E2EBFA;\n",
              "      box-shadow: 0px 1px 2px rgba(60, 64, 67, 0.3), 0px 1px 3px 1px rgba(60, 64, 67, 0.15);\n",
              "      fill: #174EA6;\n",
              "    }\n",
              "\n",
              "    [theme=dark] .colab-df-convert {\n",
              "      background-color: #3B4455;\n",
              "      fill: #D2E3FC;\n",
              "    }\n",
              "\n",
              "    [theme=dark] .colab-df-convert:hover {\n",
              "      background-color: #434B5C;\n",
              "      box-shadow: 0px 1px 3px 1px rgba(0, 0, 0, 0.15);\n",
              "      filter: drop-shadow(0px 1px 2px rgba(0, 0, 0, 0.3));\n",
              "      fill: #FFFFFF;\n",
              "    }\n",
              "  </style>\n",
              "\n",
              "      <script>\n",
              "        const buttonEl =\n",
              "          document.querySelector('#df-79a8e019-bf97-46ce-9029-95c334d70fc5 button.colab-df-convert');\n",
              "        buttonEl.style.display =\n",
              "          google.colab.kernel.accessAllowed ? 'block' : 'none';\n",
              "\n",
              "        async function convertToInteractive(key) {\n",
              "          const element = document.querySelector('#df-79a8e019-bf97-46ce-9029-95c334d70fc5');\n",
              "          const dataTable =\n",
              "            await google.colab.kernel.invokeFunction('convertToInteractive',\n",
              "                                                     [key], {});\n",
              "          if (!dataTable) return;\n",
              "\n",
              "          const docLinkHtml = 'Like what you see? Visit the ' +\n",
              "            '<a target=\"_blank\" href=https://colab.research.google.com/notebooks/data_table.ipynb>data table notebook</a>'\n",
              "            + ' to learn more about interactive tables.';\n",
              "          element.innerHTML = '';\n",
              "          dataTable['output_type'] = 'display_data';\n",
              "          await google.colab.output.renderOutput(dataTable, element);\n",
              "          const docLink = document.createElement('div');\n",
              "          docLink.innerHTML = docLinkHtml;\n",
              "          element.appendChild(docLink);\n",
              "        }\n",
              "      </script>\n",
              "    </div>\n",
              "  </div>\n",
              "  "
            ]
          },
          "metadata": {},
          "execution_count": 45
        }
      ]
    },
    {
      "cell_type": "code",
      "source": [
        "df1.loc[[0,99,999], ['Year', 'Industry_aggregation_NZSIOC', 'Industry_code_NZSIOC']]"
      ],
      "metadata": {
        "colab": {
          "base_uri": "https://localhost:8080/",
          "height": 143
        },
        "id": "Hf_2Sl85y8dv",
        "outputId": "c0b18109-48c1-4217-8f88-bf9207e38933"
      },
      "execution_count": null,
      "outputs": [
        {
          "output_type": "execute_result",
          "data": {
            "text/plain": [
              "     Year Industry_aggregation_NZSIOC Industry_code_NZSIOC\n",
              "0    2021                     Level 1                99999\n",
              "99   2021                     Level 4                AA111\n",
              "999  2021                     Level 4                CC521"
            ],
            "text/html": [
              "\n",
              "  <div id=\"df-06138888-b94d-49c2-ac16-f1beeb343ae2\">\n",
              "    <div class=\"colab-df-container\">\n",
              "      <div>\n",
              "<style scoped>\n",
              "    .dataframe tbody tr th:only-of-type {\n",
              "        vertical-align: middle;\n",
              "    }\n",
              "\n",
              "    .dataframe tbody tr th {\n",
              "        vertical-align: top;\n",
              "    }\n",
              "\n",
              "    .dataframe thead th {\n",
              "        text-align: right;\n",
              "    }\n",
              "</style>\n",
              "<table border=\"1\" class=\"dataframe\">\n",
              "  <thead>\n",
              "    <tr style=\"text-align: right;\">\n",
              "      <th></th>\n",
              "      <th>Year</th>\n",
              "      <th>Industry_aggregation_NZSIOC</th>\n",
              "      <th>Industry_code_NZSIOC</th>\n",
              "    </tr>\n",
              "  </thead>\n",
              "  <tbody>\n",
              "    <tr>\n",
              "      <th>0</th>\n",
              "      <td>2021</td>\n",
              "      <td>Level 1</td>\n",
              "      <td>99999</td>\n",
              "    </tr>\n",
              "    <tr>\n",
              "      <th>99</th>\n",
              "      <td>2021</td>\n",
              "      <td>Level 4</td>\n",
              "      <td>AA111</td>\n",
              "    </tr>\n",
              "    <tr>\n",
              "      <th>999</th>\n",
              "      <td>2021</td>\n",
              "      <td>Level 4</td>\n",
              "      <td>CC521</td>\n",
              "    </tr>\n",
              "  </tbody>\n",
              "</table>\n",
              "</div>\n",
              "      <button class=\"colab-df-convert\" onclick=\"convertToInteractive('df-06138888-b94d-49c2-ac16-f1beeb343ae2')\"\n",
              "              title=\"Convert this dataframe to an interactive table.\"\n",
              "              style=\"display:none;\">\n",
              "        \n",
              "  <svg xmlns=\"http://www.w3.org/2000/svg\" height=\"24px\"viewBox=\"0 0 24 24\"\n",
              "       width=\"24px\">\n",
              "    <path d=\"M0 0h24v24H0V0z\" fill=\"none\"/>\n",
              "    <path d=\"M18.56 5.44l.94 2.06.94-2.06 2.06-.94-2.06-.94-.94-2.06-.94 2.06-2.06.94zm-11 1L8.5 8.5l.94-2.06 2.06-.94-2.06-.94L8.5 2.5l-.94 2.06-2.06.94zm10 10l.94 2.06.94-2.06 2.06-.94-2.06-.94-.94-2.06-.94 2.06-2.06.94z\"/><path d=\"M17.41 7.96l-1.37-1.37c-.4-.4-.92-.59-1.43-.59-.52 0-1.04.2-1.43.59L10.3 9.45l-7.72 7.72c-.78.78-.78 2.05 0 2.83L4 21.41c.39.39.9.59 1.41.59.51 0 1.02-.2 1.41-.59l7.78-7.78 2.81-2.81c.8-.78.8-2.07 0-2.86zM5.41 20L4 18.59l7.72-7.72 1.47 1.35L5.41 20z\"/>\n",
              "  </svg>\n",
              "      </button>\n",
              "      \n",
              "  <style>\n",
              "    .colab-df-container {\n",
              "      display:flex;\n",
              "      flex-wrap:wrap;\n",
              "      gap: 12px;\n",
              "    }\n",
              "\n",
              "    .colab-df-convert {\n",
              "      background-color: #E8F0FE;\n",
              "      border: none;\n",
              "      border-radius: 50%;\n",
              "      cursor: pointer;\n",
              "      display: none;\n",
              "      fill: #1967D2;\n",
              "      height: 32px;\n",
              "      padding: 0 0 0 0;\n",
              "      width: 32px;\n",
              "    }\n",
              "\n",
              "    .colab-df-convert:hover {\n",
              "      background-color: #E2EBFA;\n",
              "      box-shadow: 0px 1px 2px rgba(60, 64, 67, 0.3), 0px 1px 3px 1px rgba(60, 64, 67, 0.15);\n",
              "      fill: #174EA6;\n",
              "    }\n",
              "\n",
              "    [theme=dark] .colab-df-convert {\n",
              "      background-color: #3B4455;\n",
              "      fill: #D2E3FC;\n",
              "    }\n",
              "\n",
              "    [theme=dark] .colab-df-convert:hover {\n",
              "      background-color: #434B5C;\n",
              "      box-shadow: 0px 1px 3px 1px rgba(0, 0, 0, 0.15);\n",
              "      filter: drop-shadow(0px 1px 2px rgba(0, 0, 0, 0.3));\n",
              "      fill: #FFFFFF;\n",
              "    }\n",
              "  </style>\n",
              "\n",
              "      <script>\n",
              "        const buttonEl =\n",
              "          document.querySelector('#df-06138888-b94d-49c2-ac16-f1beeb343ae2 button.colab-df-convert');\n",
              "        buttonEl.style.display =\n",
              "          google.colab.kernel.accessAllowed ? 'block' : 'none';\n",
              "\n",
              "        async function convertToInteractive(key) {\n",
              "          const element = document.querySelector('#df-06138888-b94d-49c2-ac16-f1beeb343ae2');\n",
              "          const dataTable =\n",
              "            await google.colab.kernel.invokeFunction('convertToInteractive',\n",
              "                                                     [key], {});\n",
              "          if (!dataTable) return;\n",
              "\n",
              "          const docLinkHtml = 'Like what you see? Visit the ' +\n",
              "            '<a target=\"_blank\" href=https://colab.research.google.com/notebooks/data_table.ipynb>data table notebook</a>'\n",
              "            + ' to learn more about interactive tables.';\n",
              "          element.innerHTML = '';\n",
              "          dataTable['output_type'] = 'display_data';\n",
              "          await google.colab.output.renderOutput(dataTable, element);\n",
              "          const docLink = document.createElement('div');\n",
              "          docLink.innerHTML = docLinkHtml;\n",
              "          element.appendChild(docLink);\n",
              "        }\n",
              "      </script>\n",
              "    </div>\n",
              "  </div>\n",
              "  "
            ]
          },
          "metadata": {},
          "execution_count": 46
        }
      ]
    },
    {
      "cell_type": "code",
      "source": [
        "df1.head(n=10)"
      ],
      "metadata": {
        "colab": {
          "base_uri": "https://localhost:8080/",
          "height": 653
        },
        "id": "XHwW9-sOzJPT",
        "outputId": "31e46068-288c-42c6-f671-e9679c277a95"
      },
      "execution_count": null,
      "outputs": [
        {
          "output_type": "execute_result",
          "data": {
            "text/plain": [
              "   Year Industry_aggregation_NZSIOC Industry_code_NZSIOC Industry_name_NZSIOC  \\\n",
              "0  2021                     Level 1                99999       All industries   \n",
              "1  2021                     Level 1                99999       All industries   \n",
              "2  2021                     Level 1                99999       All industries   \n",
              "3  2021                     Level 1                99999       All industries   \n",
              "4  2021                     Level 1                99999       All industries   \n",
              "5  2021                     Level 1                99999       All industries   \n",
              "6  2021                     Level 1                99999       All industries   \n",
              "7  2021                     Level 1                99999       All industries   \n",
              "8  2021                     Level 1                99999       All industries   \n",
              "9  2021                     Level 1                99999       All industries   \n",
              "\n",
              "                Units Variable_code  \\\n",
              "0  Dollars (millions)           H01   \n",
              "1  Dollars (millions)           H04   \n",
              "2  Dollars (millions)           H05   \n",
              "3  Dollars (millions)           H07   \n",
              "4  Dollars (millions)           H08   \n",
              "5  Dollars (millions)           H09   \n",
              "6  Dollars (millions)           H10   \n",
              "7  Dollars (millions)           H11   \n",
              "8  Dollars (millions)           H12   \n",
              "9  Dollars (millions)           H13   \n",
              "\n",
              "                                     Variable_name      Variable_category  \\\n",
              "0                                     Total income  Financial performance   \n",
              "1  Sales, government funding, grants and subsidies  Financial performance   \n",
              "2                Interest, dividends and donations  Financial performance   \n",
              "3                             Non-operating income  Financial performance   \n",
              "4                                Total expenditure  Financial performance   \n",
              "5                           Interest and donations  Financial performance   \n",
              "6                                   Indirect taxes  Financial performance   \n",
              "7                                     Depreciation  Financial performance   \n",
              "8                          Salaries and wages paid  Financial performance   \n",
              "9                         Redundancy and severance  Financial performance   \n",
              "\n",
              "     Value                             Industry_code_ANZSIC06  \n",
              "0  757,504  ANZSIC06 divisions A-S (excluding classes K633...  \n",
              "1  674,890  ANZSIC06 divisions A-S (excluding classes K633...  \n",
              "2   49,593  ANZSIC06 divisions A-S (excluding classes K633...  \n",
              "3   33,020  ANZSIC06 divisions A-S (excluding classes K633...  \n",
              "4  654,404  ANZSIC06 divisions A-S (excluding classes K633...  \n",
              "5   26,138  ANZSIC06 divisions A-S (excluding classes K633...  \n",
              "6    6,991  ANZSIC06 divisions A-S (excluding classes K633...  \n",
              "7   27,801  ANZSIC06 divisions A-S (excluding classes K633...  \n",
              "8  123,620  ANZSIC06 divisions A-S (excluding classes K633...  \n",
              "9      275  ANZSIC06 divisions A-S (excluding classes K633...  "
            ],
            "text/html": [
              "\n",
              "  <div id=\"df-d85534dd-060d-4d36-acc1-979eaece5108\">\n",
              "    <div class=\"colab-df-container\">\n",
              "      <div>\n",
              "<style scoped>\n",
              "    .dataframe tbody tr th:only-of-type {\n",
              "        vertical-align: middle;\n",
              "    }\n",
              "\n",
              "    .dataframe tbody tr th {\n",
              "        vertical-align: top;\n",
              "    }\n",
              "\n",
              "    .dataframe thead th {\n",
              "        text-align: right;\n",
              "    }\n",
              "</style>\n",
              "<table border=\"1\" class=\"dataframe\">\n",
              "  <thead>\n",
              "    <tr style=\"text-align: right;\">\n",
              "      <th></th>\n",
              "      <th>Year</th>\n",
              "      <th>Industry_aggregation_NZSIOC</th>\n",
              "      <th>Industry_code_NZSIOC</th>\n",
              "      <th>Industry_name_NZSIOC</th>\n",
              "      <th>Units</th>\n",
              "      <th>Variable_code</th>\n",
              "      <th>Variable_name</th>\n",
              "      <th>Variable_category</th>\n",
              "      <th>Value</th>\n",
              "      <th>Industry_code_ANZSIC06</th>\n",
              "    </tr>\n",
              "  </thead>\n",
              "  <tbody>\n",
              "    <tr>\n",
              "      <th>0</th>\n",
              "      <td>2021</td>\n",
              "      <td>Level 1</td>\n",
              "      <td>99999</td>\n",
              "      <td>All industries</td>\n",
              "      <td>Dollars (millions)</td>\n",
              "      <td>H01</td>\n",
              "      <td>Total income</td>\n",
              "      <td>Financial performance</td>\n",
              "      <td>757,504</td>\n",
              "      <td>ANZSIC06 divisions A-S (excluding classes K633...</td>\n",
              "    </tr>\n",
              "    <tr>\n",
              "      <th>1</th>\n",
              "      <td>2021</td>\n",
              "      <td>Level 1</td>\n",
              "      <td>99999</td>\n",
              "      <td>All industries</td>\n",
              "      <td>Dollars (millions)</td>\n",
              "      <td>H04</td>\n",
              "      <td>Sales, government funding, grants and subsidies</td>\n",
              "      <td>Financial performance</td>\n",
              "      <td>674,890</td>\n",
              "      <td>ANZSIC06 divisions A-S (excluding classes K633...</td>\n",
              "    </tr>\n",
              "    <tr>\n",
              "      <th>2</th>\n",
              "      <td>2021</td>\n",
              "      <td>Level 1</td>\n",
              "      <td>99999</td>\n",
              "      <td>All industries</td>\n",
              "      <td>Dollars (millions)</td>\n",
              "      <td>H05</td>\n",
              "      <td>Interest, dividends and donations</td>\n",
              "      <td>Financial performance</td>\n",
              "      <td>49,593</td>\n",
              "      <td>ANZSIC06 divisions A-S (excluding classes K633...</td>\n",
              "    </tr>\n",
              "    <tr>\n",
              "      <th>3</th>\n",
              "      <td>2021</td>\n",
              "      <td>Level 1</td>\n",
              "      <td>99999</td>\n",
              "      <td>All industries</td>\n",
              "      <td>Dollars (millions)</td>\n",
              "      <td>H07</td>\n",
              "      <td>Non-operating income</td>\n",
              "      <td>Financial performance</td>\n",
              "      <td>33,020</td>\n",
              "      <td>ANZSIC06 divisions A-S (excluding classes K633...</td>\n",
              "    </tr>\n",
              "    <tr>\n",
              "      <th>4</th>\n",
              "      <td>2021</td>\n",
              "      <td>Level 1</td>\n",
              "      <td>99999</td>\n",
              "      <td>All industries</td>\n",
              "      <td>Dollars (millions)</td>\n",
              "      <td>H08</td>\n",
              "      <td>Total expenditure</td>\n",
              "      <td>Financial performance</td>\n",
              "      <td>654,404</td>\n",
              "      <td>ANZSIC06 divisions A-S (excluding classes K633...</td>\n",
              "    </tr>\n",
              "    <tr>\n",
              "      <th>5</th>\n",
              "      <td>2021</td>\n",
              "      <td>Level 1</td>\n",
              "      <td>99999</td>\n",
              "      <td>All industries</td>\n",
              "      <td>Dollars (millions)</td>\n",
              "      <td>H09</td>\n",
              "      <td>Interest and donations</td>\n",
              "      <td>Financial performance</td>\n",
              "      <td>26,138</td>\n",
              "      <td>ANZSIC06 divisions A-S (excluding classes K633...</td>\n",
              "    </tr>\n",
              "    <tr>\n",
              "      <th>6</th>\n",
              "      <td>2021</td>\n",
              "      <td>Level 1</td>\n",
              "      <td>99999</td>\n",
              "      <td>All industries</td>\n",
              "      <td>Dollars (millions)</td>\n",
              "      <td>H10</td>\n",
              "      <td>Indirect taxes</td>\n",
              "      <td>Financial performance</td>\n",
              "      <td>6,991</td>\n",
              "      <td>ANZSIC06 divisions A-S (excluding classes K633...</td>\n",
              "    </tr>\n",
              "    <tr>\n",
              "      <th>7</th>\n",
              "      <td>2021</td>\n",
              "      <td>Level 1</td>\n",
              "      <td>99999</td>\n",
              "      <td>All industries</td>\n",
              "      <td>Dollars (millions)</td>\n",
              "      <td>H11</td>\n",
              "      <td>Depreciation</td>\n",
              "      <td>Financial performance</td>\n",
              "      <td>27,801</td>\n",
              "      <td>ANZSIC06 divisions A-S (excluding classes K633...</td>\n",
              "    </tr>\n",
              "    <tr>\n",
              "      <th>8</th>\n",
              "      <td>2021</td>\n",
              "      <td>Level 1</td>\n",
              "      <td>99999</td>\n",
              "      <td>All industries</td>\n",
              "      <td>Dollars (millions)</td>\n",
              "      <td>H12</td>\n",
              "      <td>Salaries and wages paid</td>\n",
              "      <td>Financial performance</td>\n",
              "      <td>123,620</td>\n",
              "      <td>ANZSIC06 divisions A-S (excluding classes K633...</td>\n",
              "    </tr>\n",
              "    <tr>\n",
              "      <th>9</th>\n",
              "      <td>2021</td>\n",
              "      <td>Level 1</td>\n",
              "      <td>99999</td>\n",
              "      <td>All industries</td>\n",
              "      <td>Dollars (millions)</td>\n",
              "      <td>H13</td>\n",
              "      <td>Redundancy and severance</td>\n",
              "      <td>Financial performance</td>\n",
              "      <td>275</td>\n",
              "      <td>ANZSIC06 divisions A-S (excluding classes K633...</td>\n",
              "    </tr>\n",
              "  </tbody>\n",
              "</table>\n",
              "</div>\n",
              "      <button class=\"colab-df-convert\" onclick=\"convertToInteractive('df-d85534dd-060d-4d36-acc1-979eaece5108')\"\n",
              "              title=\"Convert this dataframe to an interactive table.\"\n",
              "              style=\"display:none;\">\n",
              "        \n",
              "  <svg xmlns=\"http://www.w3.org/2000/svg\" height=\"24px\"viewBox=\"0 0 24 24\"\n",
              "       width=\"24px\">\n",
              "    <path d=\"M0 0h24v24H0V0z\" fill=\"none\"/>\n",
              "    <path d=\"M18.56 5.44l.94 2.06.94-2.06 2.06-.94-2.06-.94-.94-2.06-.94 2.06-2.06.94zm-11 1L8.5 8.5l.94-2.06 2.06-.94-2.06-.94L8.5 2.5l-.94 2.06-2.06.94zm10 10l.94 2.06.94-2.06 2.06-.94-2.06-.94-.94-2.06-.94 2.06-2.06.94z\"/><path d=\"M17.41 7.96l-1.37-1.37c-.4-.4-.92-.59-1.43-.59-.52 0-1.04.2-1.43.59L10.3 9.45l-7.72 7.72c-.78.78-.78 2.05 0 2.83L4 21.41c.39.39.9.59 1.41.59.51 0 1.02-.2 1.41-.59l7.78-7.78 2.81-2.81c.8-.78.8-2.07 0-2.86zM5.41 20L4 18.59l7.72-7.72 1.47 1.35L5.41 20z\"/>\n",
              "  </svg>\n",
              "      </button>\n",
              "      \n",
              "  <style>\n",
              "    .colab-df-container {\n",
              "      display:flex;\n",
              "      flex-wrap:wrap;\n",
              "      gap: 12px;\n",
              "    }\n",
              "\n",
              "    .colab-df-convert {\n",
              "      background-color: #E8F0FE;\n",
              "      border: none;\n",
              "      border-radius: 50%;\n",
              "      cursor: pointer;\n",
              "      display: none;\n",
              "      fill: #1967D2;\n",
              "      height: 32px;\n",
              "      padding: 0 0 0 0;\n",
              "      width: 32px;\n",
              "    }\n",
              "\n",
              "    .colab-df-convert:hover {\n",
              "      background-color: #E2EBFA;\n",
              "      box-shadow: 0px 1px 2px rgba(60, 64, 67, 0.3), 0px 1px 3px 1px rgba(60, 64, 67, 0.15);\n",
              "      fill: #174EA6;\n",
              "    }\n",
              "\n",
              "    [theme=dark] .colab-df-convert {\n",
              "      background-color: #3B4455;\n",
              "      fill: #D2E3FC;\n",
              "    }\n",
              "\n",
              "    [theme=dark] .colab-df-convert:hover {\n",
              "      background-color: #434B5C;\n",
              "      box-shadow: 0px 1px 3px 1px rgba(0, 0, 0, 0.15);\n",
              "      filter: drop-shadow(0px 1px 2px rgba(0, 0, 0, 0.3));\n",
              "      fill: #FFFFFF;\n",
              "    }\n",
              "  </style>\n",
              "\n",
              "      <script>\n",
              "        const buttonEl =\n",
              "          document.querySelector('#df-d85534dd-060d-4d36-acc1-979eaece5108 button.colab-df-convert');\n",
              "        buttonEl.style.display =\n",
              "          google.colab.kernel.accessAllowed ? 'block' : 'none';\n",
              "\n",
              "        async function convertToInteractive(key) {\n",
              "          const element = document.querySelector('#df-d85534dd-060d-4d36-acc1-979eaece5108');\n",
              "          const dataTable =\n",
              "            await google.colab.kernel.invokeFunction('convertToInteractive',\n",
              "                                                     [key], {});\n",
              "          if (!dataTable) return;\n",
              "\n",
              "          const docLinkHtml = 'Like what you see? Visit the ' +\n",
              "            '<a target=\"_blank\" href=https://colab.research.google.com/notebooks/data_table.ipynb>data table notebook</a>'\n",
              "            + ' to learn more about interactive tables.';\n",
              "          element.innerHTML = '';\n",
              "          dataTable['output_type'] = 'display_data';\n",
              "          await google.colab.output.renderOutput(dataTable, element);\n",
              "          const docLink = document.createElement('div');\n",
              "          docLink.innerHTML = docLinkHtml;\n",
              "          element.appendChild(docLink);\n",
              "        }\n",
              "      </script>\n",
              "    </div>\n",
              "  </div>\n",
              "  "
            ]
          },
          "metadata": {},
          "execution_count": 47
        }
      ]
    },
    {
      "cell_type": "code",
      "source": [
        "df.groupby('Year')['Units'].mean() #there's only one int/float type in this dataset and acomparison cannot be drawn"
      ],
      "metadata": {
        "id": "fOVQ7hAszOZN"
      },
      "execution_count": null,
      "outputs": []
    }
  ]
}